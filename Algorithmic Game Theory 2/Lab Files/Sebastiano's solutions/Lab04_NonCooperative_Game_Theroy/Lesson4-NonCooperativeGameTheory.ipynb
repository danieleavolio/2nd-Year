{
 "cells": [
  {
   "attachments": {},
   "cell_type": "markdown",
   "metadata": {},
   "source": [
    "# Non-cooperative Game Theory\n",
    "\n",
    "In non-cooperative game theory, we study games in which players cannot make binding agreements and so they cannot form coalitions. Non-cooperative games are also called *strategic games*.\n",
    "Strategic games tipically describe situations of conflict between self-interested players, who, as a result of their actions (choices) want to maximise their own uitility.\n",
    "In strategic games, players typically have different utilities and different incentives to choose their actions. \n",
    "\n",
    "When we consider strategic games, we are typically interested in answering the following questions:\n",
    "- What is the optimal outcome?\n",
    "- What is the a player's best response another player's action?\n",
    "- Which course of action represents an equilibrium in a given game? \n",
    "\n",
    "## Definition of Normal Form games\n",
    "Let's begin by formalizing games and defining what a normal form game is.\n",
    "An $N$ player normal form game consists of\n",
    "- A finite set of $N$ players\n",
    "- Action set for the players $\\{ A_1, A_2, \\dots, A_N \\}$ \n",
    "- A payoff (utility) function for each player $i \\in N$: $u_i: A_1 \\times A_2 \\times \\dots \\times A_N \\longrightarrow \\mathbb{R}$\n",
    "\n",
    "In this notebook we will limit our treatment to 2 player games. The concepts we are going to see can be extended to games of arbitrary number of players. However, going beyond two player games is hard and the best known algorithms to solve games have exponential complexity.\n",
    "In fact, even for general 2 player games the best known algorithms to compute all the equilibria run in exponential time.\n"
   ]
  },
  {
   "attachments": {},
   "cell_type": "markdown",
   "metadata": {},
   "source": [
    "### Representing strategic 2 player games\n",
    "The standard way to represent 2 player games is by representing each player payoff function with a matrix.\n",
    "Let's consider the classic *prisoner dilemma* game defined by the following table:\n",
    "$$\n",
    "\\begin{pmatrix}\n",
    "-1, -1 & -4, 0 \\\\\n",
    "0, -4, & -3, -3\n",
    "\\end{pmatrix}\n",
    "$$\n",
    "The standard way to represent this payoff is to use two matrices; the matrix $A$ describes the payoff of the row player and the matrix $B$ describes the payoff for the column player:\n",
    "$$ A =\n",
    "\\begin{pmatrix}\n",
    "-1 & -4 \\\\\n",
    "0 & -3\n",
    "\\end{pmatrix}\n",
    "\\qquad\n",
    "B = \n",
    "\\begin{pmatrix}\n",
    "-1 & 0 \\\\\n",
    "-4, & -3\n",
    "\\end{pmatrix}\n",
    "$$"
   ]
  },
  {
   "cell_type": "code",
   "execution_count": 88,
   "metadata": {},
   "outputs": [
    {
     "name": "stdout",
     "output_type": "stream",
     "text": [
      "A = \n",
      " [[-1 -4]\n",
      " [ 0 -3]]\n",
      "B = \n",
      " [[-1  0]\n",
      " [-4 -3]]\n"
     ]
    }
   ],
   "source": [
    "import numpy as np\n",
    "A = np.array([[-1, -4], [0, -3]])\n",
    "B = np.array([[-1, 0], [-4, -3]])\n",
    "\n",
    "print(\"A = \\n\", A)\n",
    "print(\"B = \\n\", B)"
   ]
  },
  {
   "attachments": {},
   "cell_type": "markdown",
   "metadata": {},
   "source": [
    "## Best Response and Nash Equilibrium\n",
    "If a player $i$ knew what all the other players would play, it would be easy to chose the best action.\n",
    "Let $a_{-i} = \\lang a_1, \\dots, a_{i-1}, a_{i+1}, \\dots, a_n \\rang$ be the action profile of all the other players but $i$ and let $a = (a_{-i}, a_i)$ be the full action profile\n",
    "> **Definition (Best response):**  </br>\n",
    "$a_i^* \\in \\text{BR}(a_{-i})\\; \\text{iff}\\; \\forall a_i \\in A_i,\\; u_i(a_i^*, a_{-i}) \\ge u_i(a_i, a_{-i})$\n",
    "\n",
    "That is, the best response might not be unique, but an action $a_i^*$ is a player $i$'s best response to an opponents' action profile $a_{-i}$, if and only if the utility given by $a_i^*$ is at least as big as the utility provided by all the other actions available to player $i$.\n",
    "\n",
    "The problem is that a player would not know what the other players would do. But this is not a big issue, since the notion of best response is actually used to define another notion, much more useful in practice: Nash equilibrium. </br>\n",
    "The idea of Nash equilibrium is to look for stable action profiles. That is, sets of actions for each player such that, once the actions of all the other players are known, no player wants to change their action.\n",
    "\n",
    "> **Definition (Nash Equilibrium)** </br>\n",
    "The action profile $a = \\lang a_1, \\dots, a_n \\rang$ is a *pure strategy Nash equilibrium* if and only if $\\forall i\\; a_i \\in \\text{BR}(a_{-i})$"
   ]
  },
  {
   "attachments": {},
   "cell_type": "markdown",
   "metadata": {},
   "source": [
    "## Nash equilibria in different games\n",
    "In the following we analyse the possible Nash equilibria in the different types of games we often encounter when we analyse games between two players"
   ]
  },
  {
   "attachments": {},
   "cell_type": "markdown",
   "metadata": {},
   "source": [
    "### Nash equilibrium in the game \"Prisoner's dilemma\"\n",
    "The prisoner dilemma is a game with the following structure:\n",
    "\n",
    "|   | C   | D   |           \n",
    ":---|:---:|:---:|           \n",
    "| **C** | $b$, $b$ | $d$, $a$ | \n",
    "| **D** | $a$, $d$ | $c$, $c$ |\n",
    "\n",
    "with $a > b > c > d$. **C** and **D** indicate the two possible actions for each player: Cooperate, and Defect. A player can cooperate with the other by not accusing the other player and can defect, instead, by accusing the other player.\n",
    "\n",
    "The table below describes one specific instance of the prisoner dilemma:\n",
    "\n",
    "|   | C   | D   |\n",
    ":---|:---:|:---:|\n",
    "| **C** |-1, -1 | -4,  0 |\n",
    "| **D** | 0, -4 | -3, -3 |\n",
    "\n",
    "If both prisoners cooperate, they get a light punishment. If they do not cooperate, they get a more severe punishment. If one cooperates and the other doesn't, then the cooperator gets the maximum punishment and the one that does not cooperate gets free.\n",
    "In this game, the dominant strategy is to defect no matter what the other person does. Since the two prisoners don't know what the other prisoner will do, this strategy is the only one that allows them to reduce the maximum punishment. This strategy is the only pure strategy Nash equilibrium in this game.\n",
    "\n",
    "### Nash equilibrium in games of pure coordination\n",
    "A game of pure coordination is a game with the following structure:\n",
    "\n",
    "|   | left   | right   |           \n",
    ":---|:---:|:---:|           \n",
    "| **left** | $a$, $a$ | 0, 0 | \n",
    "| **right** | 0, 0 | $a$, $a$ |\n",
    "\n",
    "We can think of such a game as follows: the two players are walking towards each other in a road. If they both walk on their right or on their left, they avoid a collition and get a positive payoff. If they do not coordinate and walk one on their right and the other on their left, they will have a collision. This game has two pure strategy Nash equilibria: (**left**, **left**) and (**right**, **right**).\n",
    "\n",
    "### Nash equilibrium in the game \"Battle of the sexes\"\n",
    "The game battle of the sexes is a game that contains elements of both competition and cooperation. The two player version of such a game has the following normal form representation:\n",
    "\n",
    "|   | A   | C   |           \n",
    ":---|:---:|:---:|           \n",
    "| **A** | 2, 1 | 0, 0 | \n",
    "| **C** | 0, 0 | 1, 2 |\n",
    "\n",
    "This game describes the situation of a couple who wants to go to the cinema to watch a movie. The couple is considering two movies: the husband is heavily leaning towards an action movie (denoted with **A**); the wife is heavily leaning towards a comedy (denoted with **C**). More importantly, they want to go together. So, if they go to watch the movie **A** the husband gets a payoff of 2 and the wife gets a payoff of 1; conversely, if they go to watch the movie **C** the husband gets a payoff of 1 and the wife gets a payoff of 2. In case they decide to watch two different movies (i.e. the husband goes for the action movie and the wife goes for the comedy), they do not get any payoff. So, this game has two pure strategy Nash equilibria, where the best pure response is to match what the other player chooses. In this regards, the game is similar to a pure coordination game. However, there is an important difference between the battle of the sexes and a pure coordination game: the payoff is asymmetrical. If one of the players always gets it their way, the other player will loose quite a lot. In order to maximise both players' payoffs, **ideally**, the couple should organise in such a way to go to watch action movies 50% of the times and comedy the other 50% of the times. However, they have no way to do this if they do not know in advance what the other player will play.\n",
    "\n",
    "The difference between games of pure coordination and games of battle of the sexes will become more evident when we will introduce *mixed strategies* and *mixed equilibria*.\n",
    "\n",
    "### Nash equilibtium in the game \"Matching Pennies\"\n",
    "The \"Matching Pennies\" game is a zero-sum game described by the following matrix:\n",
    "\n",
    "|   | Head   | Tail   |           \n",
    ":---|:---:|:---:|           \n",
    "| **Head** | 1, -1 | -1, 1 | \n",
    "| **Tail** | -1, 1 | 1, -1 |\n",
    "\n",
    "This is a zero-sum game. In fact, the sum of the payoffs in each cell of the matrix is 0.\n",
    "In this game, the two players have to choose between head and tail. The row player wins if the the colulmn player chooses the same option chosen by the row player. Conversely, the column player wins if the players' choices are different.\n",
    "This game does not have any *pure strategy* Nash equilibrium. This happens because there is no action profile such that both players would not change their action after knowing what the opponent has played. If the row player plays Head (respective Tail) the column player wants to play Tail (respective Head). But if the column player plays Head (respective Tail) then the row player wants to play Head (respective Tail). So, there is no *pure* choice here that would be stable for both players, no matter what the other player does.\n",
    "\n",
    "However, if we ponder the \"Matching Pennies\" game we easily come up with the fact that since one player does not know what the other player plays, the best thing a player can do is to chose completely at random (in this case with probability 0.5) between Head and Tail. Such a strategy, which involves a probability distribution over the alternatives, is known as *mixed strategy*. We will see mixed strategies later on in this notebook."
   ]
  },
  {
   "attachments": {},
   "cell_type": "markdown",
   "metadata": {},
   "source": [
    "## Testing wether a pure strategy is a Best Response and/or a Nash equilibrium\n",
    "Let's now write a function that, given a 2-person game in normal form, determines whether a given pure strategy is a best response.\n",
    "As we did before, we represent the game with two payoff matrices; one for each player. We call these matrices P1 and P2. The strategy will be given as a binary vector for each player. We call these vectors s1 and s2.\n",
    "If a player selects the second strategy, then the second component of the vector is set to one and all the other components will be set to zero.\n",
    "The function will check, for both players, if the strategy is the best response. As such, the function will return a tuple of two boolean values.\n",
    "\n",
    "Once we can write such a function, we can check if a pure strategy is a pure Nash equilibrium easily."
   ]
  },
  {
   "cell_type": "code",
   "execution_count": 89,
   "metadata": {},
   "outputs": [],
   "source": [
    "def is_best_response(P1, P2, s1, s2):\n",
    "    assert len(np.where(s1 == 1)[0]) == 1 and len(np.where(s2 == 1)[0]) == 1, \"Players can choose only one action!\"\n",
    "    return (np.argmax(P1[:, np.where(s2 == 1)]) == np.where(s1 == 1)[0][0], np.argmax(P2[np.where(s1 == 1), :]) == np.where(s2 == 1)[0][0])\n",
    "\n",
    "def is_nash_equilibrium(P1, P2, s1, s2):\n",
    "    return all(is_best_response(P1, P2, s1, s2))"
   ]
  },
  {
   "cell_type": "code",
   "execution_count": 90,
   "metadata": {},
   "outputs": [
    {
     "name": "stdout",
     "output_type": "stream",
     "text": [
      "(True, False)\n"
     ]
    }
   ],
   "source": [
    "# The following game is a prisoner dilemma\n",
    "A = np.array([[-1, -4], [0, -3]])\n",
    "B = np.array([[-1, 0], [-4, -3]])\n",
    "\n",
    "# Player one (the row player) plays \"defect\"; player two (the column player) plays \"cooperate\"\n",
    "s_1 = np.array([0, 1])\n",
    "s_2 = np.array([1, 0])\n",
    "\n",
    "# It should print (True, False) since the best response for player two, given that player one has chosen \"defect\", is to defect.\n",
    "print(is_best_response(A, B, s_1, s_2))"
   ]
  },
  {
   "cell_type": "code",
   "execution_count": 91,
   "metadata": {},
   "outputs": [
    {
     "name": "stdout",
     "output_type": "stream",
     "text": [
      "True\n"
     ]
    }
   ],
   "source": [
    "# The following game is a prisoner dilemma\n",
    "A = np.array([[-1, -4], [0, -3]])\n",
    "B = np.array([[-1, 0], [-4, -3]])\n",
    "\n",
    "# The two players play the Nash equilibrium \n",
    "s_1 = np.array([0, 1])\n",
    "s_2 = np.array([0, 1])\n",
    "\n",
    "# It should print True\n",
    "print(is_nash_equilibrium(A, B, s_1, s_2))"
   ]
  },
  {
   "cell_type": "code",
   "execution_count": 92,
   "metadata": {},
   "outputs": [
    {
     "name": "stdout",
     "output_type": "stream",
     "text": [
      "(True, False)\n"
     ]
    }
   ],
   "source": [
    "A = np.array([[2, 3], [1, 4]])\n",
    "B = np.array([[1, 4], [3, 4]])\n",
    "\n",
    "s_1 = np.array([1, 0])\n",
    "s_2 = np.array([1, 0])\n",
    "\n",
    "# It should print (True, False)\n",
    "print(is_best_response(A, B, s_1, s_2))"
   ]
  },
  {
   "cell_type": "code",
   "execution_count": 93,
   "metadata": {},
   "outputs": [
    {
     "name": "stdout",
     "output_type": "stream",
     "text": [
      "True\n"
     ]
    }
   ],
   "source": [
    "A = np.array([[2, 3], [1, 4]])\n",
    "B = np.array([[1, 4], [3, 4]])\n",
    "\n",
    "s_1 = np.array([0, 1])\n",
    "s_2 = np.array([0, 1])\n",
    "\n",
    "# It should print True\n",
    "print(is_nash_equilibrium(A, B, s_1, s_2))"
   ]
  },
  {
   "attachments": {},
   "cell_type": "markdown",
   "metadata": {},
   "source": [
    "## Mixed strategies and Nash equilibrium\n",
    "Now that we have an understanding of the many tipologies of games we can encounter and we know that playing a deterministic action in a game such as the \"Matching Pennies\" is a pretty bad idea, let us formally define the concept of strategy.\n",
    "> **Definition (Strategy):** </br>\n",
    "> A strategy $s_i$ for a player $i$ is any probability distribution over the possible actions $A_i$\n",
    ">\n",
    "> It follows that:\n",
    "> - *pure* strategies are strategies in which only one action is played with probability 1\n",
    "> - *mixed* strategies are strategies in which more than one action is played with positive probability\n",
    ">\n",
    "> The actions involved in a strategy are called the *support* of the strategy.\n",
    ">\n",
    "> Finally, we denote the set of all strategies for the player $i$ with $S_i$ and the set of all strategy profiles as $S = S_1 \\times \\dots \\times S_n$"
   ]
  },
  {
   "attachments": {},
   "cell_type": "markdown",
   "metadata": {},
   "source": [
    "### Utilities under mixed strategies\n",
    "Under mixed strategies, if we want to know what is a player's utility for a given strategy profile $s \\in S$, we can no longer read it in the payoff matrix; we need to compute the expected utility as follows:\n",
    "<!-- $$\n",
    "\\begin{aligned}\n",
    "&u_i(s) = \\sum_{a \\in A} u_i(a)\\,\\text{Pr}(a|s) \\\\\n",
    "&\\text{Pr}(a|s) = \\prod_{j \\in N} s_j(a_j)\n",
    "\\end{aligned}\n",
    "$$ -->\n",
    "\n",
    "\n",
    "$$\n",
    "u_i(s) = \\sum_{a \\in A} u_i(a)\\,\\text{Pr}(a|s)\n",
    "$$\n",
    "where\n",
    "$$\n",
    "\\text{Pr}(a|s) = \\prod_{j \\in N} s_j(a_j)\n",
    "$$\n",
    "\n",
    "That is, the expected utility of a player $i$ under a mixed strategy profile $s$ is the sum, over all the action profiles in the game, of $i$'s utility of the action profile times the probability that the action profile would happend under the strategy profile $s$. These probabilities are given by the product of each player's probability to play that specific action.\n",
    "\n",
    "Intuitively, in a normal form game, this would be the sum of the value of each cell in player $i$'s payoff matrix, multiplied by its respective probability. As an example, consider the \"Matching Pennies\" payoff matrix for the row player:\n",
    "\n",
    "$$\n",
    "A = \\begin{pmatrix}\n",
    "1 & -1 \\\\\n",
    "-1 & 1\n",
    "\\end{pmatrix}\n",
    "$$\n",
    "\n",
    "Suppose that both the row player and the column player are playing a mixed strategy $s_A = s_B = [0.5, 0.5]$. Each cell of $A$ has probability of being played equal to $0.5 \\times 0.5 = 0.25$. The utility of the row player, given the action profile $s = [s_A, s_B] = [[0.5, 0.5], [0.5, 0.5]]$ is $0.25 - 0.25 -0.25 + 0.25 = 0$. "
   ]
  },
  {
   "attachments": {},
   "cell_type": "markdown",
   "metadata": {},
   "source": [
    "## Best responses and mixed Nash equilibrium\n",
    "\n",
    "Now we can extend the previous definitions of Best Response and Nash equilibrium to accommodate mixed strategies.\n",
    "\n",
    "> **Definition (Best response):**  </br>\n",
    "$s_i^* \\in \\text{BR}(s_{-i})\\; \\text{iff}\\; \\forall s_i \\in S_i,\\; u_i(s_i^*, s_{-i}) \\ge u_i(s_i, s_{-i})$\n",
    "\n",
    "That is, a strategy $s_i^*$ is a player $i$'s best response to an opponents' stratey profile $s_{-i}$, if and only if the utility given by $s_i^*$ is at least as big as the utility provided by all the other actions available to player $i$.\n",
    "\n",
    "> **Definition (Nash Equilibrium)** </br>\n",
    "The strategy profile $s = \\lang s_1, \\dots, s_n \\rang$ is a *Nash equilibrium* if and only if $\\forall i\\; s_i \\in \\text{BR}(s_{-i})$\n",
    "\n",
    "By introducing mixed strategies, we can find Nash equilibria for games such as \"Matching Pennies\" which doesn't have pure Nash equilibrium. In fact, one of the reasons for which John Nash won the Nobel prize for Economics is that he proved the following theorem.\n",
    "\n",
    "> **Theorem (Nash 1950):** </br>\n",
    "Every finite game (i.e. a game with finite number of players and finite number of actions) has a Nash equilibrium."
   ]
  },
  {
   "attachments": {},
   "cell_type": "markdown",
   "metadata": {},
   "source": [
    "## Testing whether a mixed strategy is a Best Response and/or a Nash equilibrium\n",
    "In a two player game $(A, B) \\in \\mathbb{R}^{m \\times n^2}$ a strategy  $\\sigma_r^*$ of the row player is a best response to a column player's strategy $\\sigma_c$ if and only if:\n",
    "$$\n",
    "\\sigma_r^* = \\argmax_{\\sigma_r \\in S_1} \\sigma_r A \\sigma_c^T\n",
    "$$\n",
    "where $S_1$ denotes the space of all strategies for the row player and $A$ is the row player's payoff matrix.\n",
    "\n",
    "Similarly, for the column player, a mixed strategy $\\sigma_c^*$ is a best response to a row player's strategy $\\sigma_r$ if and only if:\n",
    "$$\n",
    "\\sigma_c^* = \\argmax_{\\sigma_c \\in S_2} \\sigma_r B \\sigma_c^T\n",
    "$$\n",
    "where $S_2$ denotes the space of all strategies for the column player and $B$ is the column player's payoff matrix.\n",
    "\n",
    "In reality, when we test whether a strategy is a best response in a two player game, we use the *general condition for a best response*: In a two player game $(A, B) \\in \\mathbb{R}^{m \\times n^2}$ a strategy $\\sigma_r^*$ of the row player is a best response to a column player's strategy $\\sigma_c$ if and only if:\n",
    "$$\n",
    "\\sigma^*_{r,i} > 0 \\Longrightarrow (A \\sigma_c^T)_i = \\max_{k \\in \\mathcal{A}_2}(A \\sigma_c^T)_k \\forall i \\in \\mathcal{A_1}\n",
    "$$\n",
    "Likewise, a strategy $\\sigma_c^*$ of the column player is a best response to a row player's strategy $\\sigma_r$ if and only if:\n",
    "$$\n",
    "\\sigma^*_{c,i} > 0 \\Longrightarrow (\\sigma_r B)_i = \\max_{k \\in \\mathcal{A}_1}(\\sigma_r B)_k \\forall i \\in \\mathcal{A_2}\n",
    "$$\n",
    "Using this last formulation, let's implement a function (similar to the one we implemented above) to test whether a mixed strategy is a best response. Again, the function takes in input the two payoff matrices and the two strategies and outputs a tuple of bolean values.\n",
    "Once we have implemented this function, a function to check whether a couple of strategies are a Nash equilibrium follows trivially."
   ]
  },
  {
   "cell_type": "code",
   "execution_count": 94,
   "metadata": {},
   "outputs": [],
   "source": [
    "def is_best_response(P1, P2, s1, s2):\n",
    "    assert (s1.sum() == 1 and s2.sum() == 1), \"Strategies need to be probability distributions (they have to sum up to one!)\"\n",
    "\n",
    "    # Consider the row player first\n",
    "    util_P1 = (P1 @ s2.T).round(10)     # Rounding for numerical stability reasons\n",
    "    max_utility = util_P1.max()\n",
    "    is_row_best_strategy = (util_P1[s1 > 0] == max_utility).all()\n",
    "\n",
    "    # Now we consider the column player\n",
    "    util_P2 = (s1 @ P2).round(10)\n",
    "    max_utility = util_P2.max()\n",
    "    is_column_best_strategy = (util_P2[s2 > 0] == max_utility).all()\n",
    "\n",
    "    return(is_row_best_strategy, is_column_best_strategy)\n",
    "\n",
    "def is_nash_equilibrium(P1, P2, s1, s2):\n",
    "    return all(is_best_response(P1, P2, s1, s2))"
   ]
  },
  {
   "cell_type": "code",
   "execution_count": 95,
   "metadata": {},
   "outputs": [
    {
     "name": "stdout",
     "output_type": "stream",
     "text": [
      "(True, True)\n",
      "True\n"
     ]
    }
   ],
   "source": [
    "# Battle of the sexes\n",
    "A = np.array([[2, 0], [0, 1]])\n",
    "B = np.array([[1, 0], [0, 2]])\n",
    "\n",
    "# The players decide to randomise and play 2/3 of the times the action associated with their maximum utility and 1/3 of the time the second best choice.\n",
    "s_1 = np.array([2/3, 1/3])\n",
    "s_2 = np.array([1/3, 2/3])\n",
    "\n",
    "# It should print True\n",
    "print(is_best_response(A, B, s_1, s_2))\n",
    "print(is_nash_equilibrium(A, B, s_1, s_2))"
   ]
  },
  {
   "cell_type": "code",
   "execution_count": 96,
   "metadata": {},
   "outputs": [
    {
     "name": "stdout",
     "output_type": "stream",
     "text": [
      "(False, True)\n",
      "False\n"
     ]
    }
   ],
   "source": [
    "# Battle of the sexes\n",
    "A = np.array([[2, 0], [0, 1]])\n",
    "B = np.array([[1, 0], [0, 2]])\n",
    "\n",
    "# The row player does not best respond to the column player.\n",
    "s_1 = np.array([2/3, 1/3])\n",
    "s_2 = np.array([1/2, 1/2])\n",
    "\n",
    "# It should print (False, True)\n",
    "print(is_best_response(A, B, s_1, s_2))\n",
    "# It should print False\n",
    "print(is_nash_equilibrium(A, B, s_1, s_2))"
   ]
  },
  {
   "cell_type": "code",
   "execution_count": 97,
   "metadata": {},
   "outputs": [
    {
     "name": "stdout",
     "output_type": "stream",
     "text": [
      "True\n"
     ]
    }
   ],
   "source": [
    "# Note that the function to check if a mixed strategy is a best response works also for pure strategies!\n",
    "\n",
    "# Battle of the sexes\n",
    "A = np.array([[2, 0], [0, 1]])\n",
    "B = np.array([[1, 0], [0, 2]])\n",
    "\n",
    "# Both players coordinate and play the same strategy: this is an equilibrium in the battle of the sexes\n",
    "s_1 = np.array([1, 0])\n",
    "s_2 = np.array([1, 0])\n",
    "\n",
    "print(is_nash_equilibrium(A, B, s_1, s_2))"
   ]
  },
  {
   "cell_type": "code",
   "execution_count": 98,
   "metadata": {},
   "outputs": [
    {
     "ename": "AssertionError",
     "evalue": "Strategies need to be probability distributions (they have to sum up to one!)",
     "output_type": "error",
     "traceback": [
      "\u001b[1;31m---------------------------------------------------------------------------\u001b[0m",
      "\u001b[1;31mAssertionError\u001b[0m                            Traceback (most recent call last)",
      "Cell \u001b[1;32mIn[98], line 10\u001b[0m\n\u001b[0;32m      7\u001b[0m s_2 \u001b[39m=\u001b[39m np\u001b[39m.\u001b[39marray([\u001b[39m1\u001b[39m, \u001b[39m0\u001b[39m])\n\u001b[0;32m      9\u001b[0m \u001b[39m# This should throw an assertion error!\u001b[39;00m\n\u001b[1;32m---> 10\u001b[0m \u001b[39mprint\u001b[39m(is_nash_equilibrium(A, B, s_1, s_2))\n",
      "Cell \u001b[1;32mIn[94], line 17\u001b[0m, in \u001b[0;36mis_nash_equilibrium\u001b[1;34m(P1, P2, s1, s2)\u001b[0m\n\u001b[0;32m     16\u001b[0m \u001b[39mdef\u001b[39;00m \u001b[39mis_nash_equilibrium\u001b[39m(P1, P2, s1, s2):\n\u001b[1;32m---> 17\u001b[0m     \u001b[39mreturn\u001b[39;00m \u001b[39mall\u001b[39m(is_best_response(P1, P2, s1, s2))\n",
      "Cell \u001b[1;32mIn[94], line 2\u001b[0m, in \u001b[0;36mis_best_response\u001b[1;34m(P1, P2, s1, s2)\u001b[0m\n\u001b[0;32m      1\u001b[0m \u001b[39mdef\u001b[39;00m \u001b[39mis_best_response\u001b[39m(P1, P2, s1, s2):\n\u001b[1;32m----> 2\u001b[0m     \u001b[39massert\u001b[39;00m (s1\u001b[39m.\u001b[39msum() \u001b[39m==\u001b[39m \u001b[39m1\u001b[39m \u001b[39mand\u001b[39;00m s2\u001b[39m.\u001b[39msum() \u001b[39m==\u001b[39m \u001b[39m1\u001b[39m), \u001b[39m\"\u001b[39m\u001b[39mStrategies need to be probability distributions (they have to sum up to one!)\u001b[39m\u001b[39m\"\u001b[39m\n\u001b[0;32m      4\u001b[0m     \u001b[39m# Consider the row player first\u001b[39;00m\n\u001b[0;32m      5\u001b[0m     util_P1 \u001b[39m=\u001b[39m (P1 \u001b[39m@\u001b[39m s2\u001b[39m.\u001b[39mT)\u001b[39m.\u001b[39mround(\u001b[39m10\u001b[39m)     \u001b[39m# Rounding for numerical stability reasons\u001b[39;00m\n",
      "\u001b[1;31mAssertionError\u001b[0m: Strategies need to be probability distributions (they have to sum up to one!)"
     ]
    }
   ],
   "source": [
    "# Battle of the sexes\n",
    "A = np.array([[2, 0], [0, 1]])\n",
    "B = np.array([[1, 0], [0, 2]])\n",
    "\n",
    "# We try with an \"illegal\" strategy for player one (the probabilities do not sum up to one)\n",
    "s_1 = np.array([0.8, 0.8])\n",
    "s_2 = np.array([1, 0])\n",
    "\n",
    "# This should throw an assertion error!\n",
    "print(is_nash_equilibrium(A, B, s_1, s_2))"
   ]
  },
  {
   "attachments": {},
   "cell_type": "markdown",
   "metadata": {},
   "source": [
    "## Computing mixed Nash equilibria\n",
    "Computing mixed Nash equilibria in general N-player games is surprisingly hard. All known algorithms exhibit exponential computational complexity in the worst case. Complexity analyses of the problem of finding Nash equilibria have concluded that finding Nash equilibria is PPAD complete. As such, we are not going to implement an algorithm to find a Nash equilibrium in a general game. Instead, in the following, we are going to implement algorithms to compute mixed equilibria in:\n",
    "1. Two player zero-sum games, where we can compute a mixed Nash equilibrium in polynomial time by solving a linear program;\n",
    "2. Two player games described by 2x2 matrices, where we can compute the mixed Nash equilibrium by solving a two linear equations.\n"
   ]
  },
  {
   "attachments": {},
   "cell_type": "markdown",
   "metadata": {},
   "source": [
    "### Computing mixed Nash equilibria in 2-player zero-sum games\n",
    "A two player normal form game with payoff matrices $(A, B)$ is said to be a zero-sum game if and only if $A = -B$. As such, zero-sum games can be represented with just one matrix. Let's consider a zero-sum game with a payoff matrix $A \\in \\mathbb{R}^{m \\times n}$ and a column player with strategy $y \\in \\mathbb{R}^n$, the row player is aiming to find a best response strategy $x \\in \\mathbb{R}^m$ which corresponds to:\n",
    "$$\n",
    "\\max_{i \\le m} (xAy^T)_i\n",
    "$$\n",
    "The column player, with therir choice of $y$ is able to define the upper-bound $v$ to $\\max_{i \\le m} (xAy^T)_i$. Since the game is zero-sum, the column player wants to choose a strategy $y$ such that $v$ is as low as possible. Thus, $\\max_{i \\le m} (xAy^T)_i = \\min\\{v \\in \\mathbb{R} | Ay^T \\le \\mathbf{\\vec{1}}v\\}$.\n",
    "As such, the *minimax* strategy $y$ of the column player is a solution to the following linear program:\n",
    "$$\n",
    "\\begin{aligned}\n",
    "    &\\min_{v, y} v \\\\\n",
    "    \\text{s.t.:} \\\\\n",
    "    &Ay^T \\le \\mathbf{\\vec{1}}v\\\\\n",
    "    &y \\in S_2\n",
    "\\end{aligned}\n",
    "$$\n",
    "Similarly, the *maximin* strategy x for the row player is given by a solution to the following linear program:\n",
    "$$\n",
    "\\begin{aligned}\n",
    "    &\\max_{x, u} u \\\\\n",
    "    \\text{s.t.:} \\\\\n",
    "    &xA \\ge \\mathbf{\\vec{1}}u\\\\\n",
    "    &x \\in S_1\n",
    "\\end{aligned}\n",
    "$$\n",
    "John von Neumann, in 1928, proved that if there exists optimal values of\n",
    "\n",
    "1. the max-min value $u$ and the max-min strategy $x$\n",
    "2. the min-max value $v$ and the min-max strategy $y$\n",
    "\n",
    "then $u = v$. This is know as the *minimax* theorem, and it's considered the starting point of game theory!\n",
    "\n",
    "#### Reformulation of the linear program for zero-sum games\n",
    "Given a row player payoff matrix with $m$ rows and $n$ columns $A \\in \\mathbb{R}^{m \\times n}$, the mixed equilibrium for a zero-sum game can be computed with the following equivalent linear program:\n",
    "$$\n",
    "\\begin{aligned}\n",
    "&\\min_{x \\in \\mathbb{R}^{(m+1) \\times 1}} cx \\\\\n",
    "\\text{s.t.:}\\\\\n",
    "&\\begin{align*}\n",
    "    M_{\\text{ub}}x &\\le b_{\\text{ub}} \\\\\n",
    "    M_{\\text{eq}}x &= b_{\\text{eq}} \\\\\n",
    "    x_i & \\ge 0 \\qquad \\forall i \\le m\n",
    "&\\end{align*}\n",
    "\\end{aligned}\n",
    "$$\n",
    "where the coefficients are defined as follows:\n",
    "$$\n",
    "\\begin{aligned}\n",
    "    c &= (\\underbrace{0, \\dots, 0}_{m}, -1) && c\\in\\{0, 1\\}^{1 \\times (m + 1)}\\\\\n",
    "    M_{\\text{ub}} &= \\begin{pmatrix}(-A^T)_{11}&\\dots&(-A^T)_{1m}&1\\\\\n",
    "                                    \\vdots     &\\ddots&\\vdots           &1\\\\\n",
    "                                    (-A^T)_{n1}&\\dots&(-A^T)_{nm}&1\\end{pmatrix} && M_{\\text{ub}}\\in\\mathbb{R}^{n\\times (m + 1)}\\\\\n",
    "    b_{\\text{ub}} &= (\\underbrace{0, \\dots, 0}_{n})^T && b_{\\text{ub}}\\in\\{0\\}^{n\\times 1}\\\\\n",
    "    M_{\\text{eq}} &= (\\underbrace{1, \\dots, 1}_{m}, 0) && M_{\\text{eq}}\\in\\{0, 1\\}^{1\\times(m + 1)}\\\\\n",
    "    b_{\\text{eq}} &= 1 \\\\\n",
    "\\end{aligned}\n",
    "$$\n",
    "\n",
    "Following the above reformulation, we can write a function to compute the mixed minimax strategy and Nash equilibrium for zero-num games. We use the *linprog* function from scipy.optimize\n"
   ]
  },
  {
   "cell_type": "code",
   "execution_count": 99,
   "metadata": {},
   "outputs": [],
   "source": [
    "import scipy.optimize\n",
    "\n",
    "def minimax_LP(payoff_matrix):\n",
    "    nrows, ncols = payoff_matrix.shape\n",
    "\n",
    "    #Setting the variables\n",
    "    c = np.zeros(shape=(1, nrows + 1))\n",
    "    c[0, -1] = -1\n",
    "    M_ub = np.hstack((-payoff_matrix.T, np.ones(shape=(ncols, 1))))\n",
    "    b_ub = np.zeros(shape=(ncols, 1))\n",
    "    M_eq = np.ones(shape=(1, nrows + 1))\n",
    "    M_eq[0, -1] = 0\n",
    "    b_eq = 1\n",
    "\n",
    "    # Setting the LP optimizer\n",
    "    res = scipy.optimize.linprog(\n",
    "        c=c,\n",
    "        A_ub=M_ub,\n",
    "        b_ub=b_ub,\n",
    "        A_eq=M_eq,\n",
    "        b_eq=b_eq,\n",
    "    )\n",
    "    return res.x[:-1]"
   ]
  },
  {
   "cell_type": "code",
   "execution_count": 100,
   "metadata": {},
   "outputs": [
    {
     "name": "stdout",
     "output_type": "stream",
     "text": [
      "[0.33333333 0.33333333 0.33333333]\n"
     ]
    }
   ],
   "source": [
    "# Rock paper scissor game\n",
    "A = np.array([\n",
    "    [0, 1, -1],\n",
    "    [-1, 0, 1],\n",
    "    [1, -1, 0]\n",
    "])\n",
    "\n",
    "# It should print [1/3, 1/3, 1/3]\n",
    "print(minimax_LP(A))"
   ]
  },
  {
   "cell_type": "code",
   "execution_count": 101,
   "metadata": {},
   "outputs": [
    {
     "name": "stdout",
     "output_type": "stream",
     "text": [
      "[0.5 0.5]\n"
     ]
    }
   ],
   "source": [
    "# Matching Pennies game\n",
    "A = np.array([\n",
    "    [1, -1],\n",
    "    [-1, 1]\n",
    "])\n",
    "\n",
    "# It should print [1/2, 1/2]\n",
    "print(minimax_LP(A))"
   ]
  },
  {
   "cell_type": "code",
   "execution_count": 102,
   "metadata": {},
   "outputs": [
    {
     "name": "stdout",
     "output_type": "stream",
     "text": [
      "[0.         0.56291391 0.43708609 0.         0.        ]\n"
     ]
    }
   ],
   "source": [
    "# Random Matrix game with values in [a, b]\n",
    "np.random.seed(42)\n",
    "N = 5\n",
    "a = 1\n",
    "b = 100\n",
    "A = np.random.randint(low=a, high=b, size=(N,N))\n",
    "\n",
    "# It should print [0, 0.56291391, 0.43708609, 0, 0] if you keep the random seed to 42\n",
    "print(minimax_LP(A))"
   ]
  },
  {
   "attachments": {},
   "cell_type": "markdown",
   "metadata": {},
   "source": [
    "### Computing mixed Nash equilibria in games described by $2 \\times 2$ matrices\n",
    "If we are dealing with non zero-sum games, things becomea bit more complicated and the minimax principle we have seen before does no longer apply. For $2 \\times 2$ matrices, there still exist a simple algorithm we can use to compute a mixed Nash equilibrium. we are going to see and implement this aglorithm here. The idea we are going to see is called *indifference condition*. This idea can be generalised to implement algorithm to compute equilibra in generic games, although those algorithms are not efficient. \n",
    "\n",
    "Let's recall that a *support* is the set of pure strategies that receive positive probability under the mixed strategy of the players. In a $2 \\times 2$ game, a support for a mixed strategy always involves all the 2 actions. As such, a strategy for the row player is a probability distribution $\\sigma_r = (p, 1-p)$ over the two possible actions and, similarly, a strategy for the column player is a probability distribution $\\sigma_c = (q, 1-q)$. Recalling the general condition for best response discussed previously, if $\\sigma_r$ is a best response to $\\sigma_c$, then $(A\\sigma_c^T)_i = \\text{max}_{k\\in\\{1, 2\\}} (A\\sigma_c^T)_k \\text{ for all }i \\in \\{1, 2\\}$. In other words, let $A$ be the payoff matrix of the row player, if $\\sigma_r$ is a best response to $\\sigma_c$, the following *indifference condition* must hold: $qA_{11} + (1-q)A_{12} = qA_{21} + (1-q)A_{22}$. From this indifference condition it follows that: \n",
    "\n",
    "$$\n",
    "q = \\frac{A_{22} - A_{12}}{A_{11} - A_{12} - A_{21} + A_{22}}\n",
    "$$\n",
    "\n",
    "Likewise, reversing the previous reasoning on the column player, which best responds to the row player, we have that $pB_{11} + (1-p)B_{21} = pB_{12} + (1-p)B_{22}$, which implies:\n",
    "\n",
    "$$\n",
    "p = \\frac{B_{22} - B_{21}}{B_{11} - B_{12} - B_{21} + B_{22}}\n",
    "$$\n",
    "\n",
    "We can now implement a function to find a mixed Nash equilibrium in $2 \\times 2$ games."
   ]
  },
  {
   "cell_type": "code",
   "execution_count": 103,
   "metadata": {},
   "outputs": [],
   "source": [
    "def mixed_nash_equilibrium_2x2(A, B):\n",
    "    q = (A[1, 1] - A[0, 1])/(A[0, 0] - A[0, 1] - A[1, 0] + A[1, 1])\n",
    "    p = (B[1, 1] - B[1, 0])/(B[0, 0] - B[0, 1] - B[1, 0] + B[1, 1])\n",
    "\n",
    "    q_ = 1 - q\n",
    "    p_ = 1 - p\n",
    "\n",
    "    sigma_A = np.array([p, p_])\n",
    "    sigma_B = np.array([q, q_])\n",
    "\n",
    "    return (sigma_A, sigma_B)"
   ]
  },
  {
   "cell_type": "code",
   "execution_count": 104,
   "metadata": {},
   "outputs": [
    {
     "name": "stdout",
     "output_type": "stream",
     "text": [
      "[0.66666667 0.33333333] [0.33333333 0.66666667]\n"
     ]
    },
    {
     "data": {
      "text/plain": [
       "True"
      ]
     },
     "execution_count": 104,
     "metadata": {},
     "output_type": "execute_result"
    }
   ],
   "source": [
    "# Battle of the sexes\n",
    "A = np.array([[2,0],[0,1]])\n",
    "B = np.array([[1,0],[0,2]])\n",
    "\n",
    "s1,s2 = mixed_nash_equilibrium_2x2(A, B)\n",
    "# It should print [2/3, 1/3] [1/3, 2/3]\n",
    "print(s1, s2)\n",
    "is_nash_equilibrium(A, B, s1, s2)"
   ]
  },
  {
   "cell_type": "code",
   "execution_count": 105,
   "metadata": {},
   "outputs": [
    {
     "name": "stdout",
     "output_type": "stream",
     "text": [
      "[0.5 0.5] [0.5 0.5]\n"
     ]
    },
    {
     "data": {
      "text/plain": [
       "True"
      ]
     },
     "execution_count": 105,
     "metadata": {},
     "output_type": "execute_result"
    }
   ],
   "source": [
    "# We can clearly compute the equilibrium also for 2x2 zero-sum games\n",
    "# Matching Pennies\n",
    "A = np.array([\n",
    "    [1, -1],\n",
    "    [-1, 1]\n",
    "])\n",
    "\n",
    "s1,s2 = mixed_nash_equilibrium_2x2(A, -A)\n",
    "# It should print [1/2, 1/2] [1/2, 1/2]\n",
    "print(s1, s2)\n",
    "is_nash_equilibrium(A,-A, s1,s2)"
   ]
  },
  {
   "cell_type": "code",
   "execution_count": 106,
   "metadata": {},
   "outputs": [
    {
     "name": "stdout",
     "output_type": "stream",
     "text": [
      "[0.75 0.25] [0.5 0.5]\n"
     ]
    },
    {
     "data": {
      "text/plain": [
       "True"
      ]
     },
     "execution_count": 106,
     "metadata": {},
     "output_type": "execute_result"
    }
   ],
   "source": [
    "A = np.array([[4,5],[6,3]])\n",
    "B = np.array([[2,1],[0,3]])\n",
    "\n",
    "s1,s2 = mixed_nash_equilibrium_2x2(A, B)\n",
    "\n",
    "# Equilibrium should be [0.75, 0.25] [0.5, 0.5]\n",
    "print(s1, s2)\n",
    "is_nash_equilibrium(A, B, s1, s2)"
   ]
  },
  {
   "cell_type": "code",
   "execution_count": 107,
   "metadata": {},
   "outputs": [
    {
     "name": "stdout",
     "output_type": "stream",
     "text": [
      "[0.75 0.25] [0.25 0.75]\n"
     ]
    },
    {
     "data": {
      "text/plain": [
       "True"
      ]
     },
     "execution_count": 107,
     "metadata": {},
     "output_type": "execute_result"
    }
   ],
   "source": [
    "A = np.array([[3,1],[0,2]])\n",
    "B = np.array([[2,1],[0,3]])\n",
    "\n",
    "s1,s2 = mixed_nash_equilibrium_2x2(A, B)\n",
    "\n",
    "# Equilibrium should be [0.75, 0.25] [0.25, 0.75]\n",
    "print(s1, s2)\n",
    "is_nash_equilibrium(A, B, s1, s2)"
   ]
  },
  {
   "cell_type": "code",
   "execution_count": 108,
   "metadata": {},
   "outputs": [
    {
     "name": "stdout",
     "output_type": "stream",
     "text": [
      "[0.66666667 0.33333333] [0.8 0.2]\n"
     ]
    },
    {
     "data": {
      "text/plain": [
       "True"
      ]
     },
     "execution_count": 108,
     "metadata": {},
     "output_type": "execute_result"
    }
   ],
   "source": [
    "A = np.array([[2,3],[3,-1]])\n",
    "B = np.array([[-5,-6],[-2,0]])\n",
    "\n",
    "s1,s2 = mixed_nash_equilibrium_2x2(A, B)\n",
    "\n",
    "# Equilibrium should be [2/3, 1/3] [0.8, 0.2]\n",
    "print(s1, s2)\n",
    "is_nash_equilibrium(A, B, s1, s2)"
   ]
  },
  {
   "cell_type": "code",
   "execution_count": null,
   "metadata": {},
   "outputs": [],
   "source": []
  }
 ],
 "metadata": {
  "kernelspec": {
   "display_name": "tf",
   "language": "python",
   "name": "python3"
  },
  "language_info": {
   "codemirror_mode": {
    "name": "ipython",
    "version": 3
   },
   "file_extension": ".py",
   "mimetype": "text/x-python",
   "name": "python",
   "nbconvert_exporter": "python",
   "pygments_lexer": "ipython3",
   "version": "3.9.18"
  },
  "orig_nbformat": 4
 },
 "nbformat": 4,
 "nbformat_minor": 2
}
