{
 "cells": [
  {
   "attachments": {},
   "cell_type": "markdown",
   "metadata": {},
   "source": [
    "# Stable marriage problem\n",
    "\n",
    "The stable marriage problem is a classical bipartite matching problem. We have $n$ men and $n$ women and we need to find a good matching between them. </br>\n",
    "In the case of the stable marriage problem, a good matching is a stable matching. That is, a matching M such that no man or woman has an incentive to deviate.</br>\n",
    "The stable matching problem was solved by David Gale and Lloyd Shapley, in 1962 with the following algorithm.\n",
    "\n",
    "**Gale-Shapley Stable Marriage Algorithm**\n",
    "\n",
    "> **while** $\\exists m \\in M$ which is unmatched **do**: </br>\n",
    ">> $w^* \\longleftarrow $ most preferred $w \\in W$ who has not rejected $m$ yet </br>\n",
    ">> **if** $w^*$ is unmatched:\n",
    ">>\n",
    ">>> tentatively match $(m, w^*)$</br>\n",
    ">>\n",
    ">> **else if** $w^*$ is tentatively matched with $m'$:</br>\n",
    ">>\n",
    ">>> $w^*$ rejects the one between $m$ and $m'$ who she likes less and is tentatively matched with the other\n",
    ">>\n",
    "> all tentative matches are made final\n",
    "\n",
    "The Gale-Shapley algorithm has many applications, such as matching patients to kidney donors or matching students to schools. For instance, Gale–Shapley algorithm is currently being applied in New York and Boston public school systems in assigning students to schools.\n",
    "Shapley and Roth won the Nobel prize in 2012 for their contributions to the theory of stable matching. The Gale-Shapley algorithm has been celebrated as the starting point of this discipline and it's been recognised in the motivations for the Nobel prize, which you can read [here](https://www.nobelprize.org/prizes/economic-sciences/2012/press-release/). It's funny that David Gale, who co-authored the original [paper](https://www.jstor.org/stable/2312726) with Shapley, has not been considered by the Nobel commission..."
   ]
  },
  {
   "attachments": {},
   "cell_type": "markdown",
   "metadata": {},
   "source": [
    "We can represent the preferences of both men and women in a dictionary of lists where the order of the elements in the lists is from the most preferred alternative to the least preferred one."
   ]
  },
  {
   "cell_type": "code",
   "execution_count": 79,
   "metadata": {},
   "outputs": [],
   "source": [
    "men_preferences = {\n",
    "    'A': ['W', 'X', 'Y', 'Z'],\n",
    "    'B': ['Y', 'Z', 'W', 'X'],\n",
    "    'C': ['W', 'X', 'Y', 'Z'],\n",
    "    'D': ['X', 'Z', 'W', 'Y']\n",
    "}\n",
    "\n",
    "women_preferences = {\n",
    "    'W': ['B', 'D', 'A', 'C'],\n",
    "    'X': ['B', 'C', 'D', 'A'],\n",
    "    'Y': ['A', 'B', 'C', 'D'],\n",
    "    'Z': ['D', 'B', 'A', 'C']\n",
    "}"
   ]
  },
  {
   "attachments": {},
   "cell_type": "markdown",
   "metadata": {},
   "source": [
    "Let's write a function that implements tha Gale Shapley algorithm"
   ]
  },
  {
   "cell_type": "code",
   "execution_count": 2,
   "metadata": {},
   "outputs": [],
   "source": [
    "import copy\n",
    "\n",
    "def gale_shapley(men_preferences, women_preferences):\n",
    "    # your code here!\n",
    "    pass\n"
   ]
  },
  {
   "cell_type": "code",
   "execution_count": 81,
   "metadata": {},
   "outputs": [
    {
     "name": "stdout",
     "output_type": "stream",
     "text": [
      "[('B', 'Y'), ('A', 'W'), ('C', 'X'), ('D', 'Z')]\n"
     ]
    }
   ],
   "source": [
    "# It should print [('B', 'Y'), ('A', 'W'), ('C', 'X'), ('D', 'Z')]\n",
    "print(gale_shapley(men_preferences, women_preferences))"
   ]
  },
  {
   "cell_type": "code",
   "execution_count": null,
   "metadata": {},
   "outputs": [],
   "source": []
  }
 ],
 "metadata": {
  "kernelspec": {
   "display_name": "tf",
   "language": "python",
   "name": "python3"
  },
  "language_info": {
   "codemirror_mode": {
    "name": "ipython",
    "version": 3
   },
   "file_extension": ".py",
   "mimetype": "text/x-python",
   "name": "python",
   "nbconvert_exporter": "python",
   "pygments_lexer": "ipython3",
   "version": "3.9.18"
  },
  "orig_nbformat": 4
 },
 "nbformat": 4,
 "nbformat_minor": 2
}
