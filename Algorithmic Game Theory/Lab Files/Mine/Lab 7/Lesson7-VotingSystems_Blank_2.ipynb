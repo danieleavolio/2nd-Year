{
 "cells": [
  {
   "cell_type": "markdown",
   "metadata": {},
   "source": [
    "# Computational Social Choice\n",
    "Computational Social Choice deals with problems arising from the aggregation of preferences of a group of agents. It has important implications when considering voting systems and elections.\n",
    "While aggregating personal preferences or computing the winner of an election might seem easy or intuitive, voting systems and aggregation rules are vulnerable to manipulation strategies. In addition, voting aggregation rules should satisfy some desired properties, such as anonimity or being difficult to manipulate.\n",
    "\n",
    "Computational social choice uses an *axiomatic method* where desired properties are treated as axioms and and consequences are derived from axioms as theorems. \n",
    "Typically, there are two types of theorems that are derived in computational social choice:\n",
    "- **Representation theorems** where, given a set of axioms, the goal is to show that a particular class of mechanisms is the only one which satisfies the set of axioms;\n",
    "- **Impossibility theorems** where, given a set of axioms, the goal is to show that there exists no aggregation rule which satisfies the set of axioms.\n",
    "\n",
    "In this lab, we are going to study some voting aggregation rules, ranging from the most commonly employed to the ones which make the possibility of ties as unlikely as possible and which exhibit the highest resistance to manipulation strategies."
   ]
  },
  {
   "cell_type": "code",
   "execution_count": 2,
   "metadata": {},
   "outputs": [],
   "source": [
    "import random"
   ]
  },
  {
   "cell_type": "code",
   "execution_count": 3,
   "metadata": {},
   "outputs": [
    {
     "name": "stdout",
     "output_type": "stream",
     "text": [
      "['C', 'B', 'D', 'A']\n",
      "['A', 'D', 'C', 'B']\n",
      "['D', 'B', 'C', 'A']\n",
      "['B', 'C', 'D', 'A']\n",
      "['C', 'D', 'A', 'B']\n",
      "['D', 'B', 'A', 'C']\n",
      "['A', 'B', 'D', 'C']\n",
      "['B', 'C', 'A', 'D']\n",
      "['B', 'A', 'C', 'D']\n",
      "['C', 'D', 'B', 'A']\n"
     ]
    }
   ],
   "source": [
    "random.seed(42)\n",
    "\n",
    "# Preferences are given as ordered lists of candidates\n",
    "C = ['A', 'B', 'C', 'D']\n",
    "\n",
    "# Generate N random permutations of C and we get preferences for N people!\n",
    "N = 10\n",
    "preferences = list()\n",
    "for i in range(N):\n",
    "    random.shuffle(C)\n",
    "    preferences.append(C.copy())\n",
    "\n",
    "for preference in preferences:\n",
    "    print(preference)"
   ]
  },
  {
   "attachments": {},
   "cell_type": "markdown",
   "metadata": {},
   "source": [
    "# Plurality Voting"
   ]
  },
  {
   "cell_type": "code",
   "execution_count": 1,
   "metadata": {},
   "outputs": [],
   "source": [
    "# Plurality vote elects the candidate ranked first more often\n",
    "def plurality_vote(preferences):\n",
    "    pass"
   ]
  },
  {
   "cell_type": "code",
   "execution_count": 5,
   "metadata": {},
   "outputs": [
    {
     "name": "stdout",
     "output_type": "stream",
     "text": [
      "The winner is: C\n",
      "{'C': 3, 'B': 3, 'D': 2, 'A': 2}\n"
     ]
    }
   ],
   "source": [
    "winner, counts = plurality_vote(preferences)\n",
    "print(\"The winner is:\", winner)\n",
    "\n",
    "# In this example, we actually have a tie between C and B\n",
    "print(counts)"
   ]
  },
  {
   "attachments": {},
   "cell_type": "markdown",
   "metadata": {},
   "source": [
    "# Borda counting"
   ]
  },
  {
   "cell_type": "code",
   "execution_count": 2,
   "metadata": {},
   "outputs": [],
   "source": [
    "# Borda counting\n",
    "def borda_vote(preferences):\n",
    "    pass"
   ]
  },
  {
   "cell_type": "code",
   "execution_count": 7,
   "metadata": {},
   "outputs": [
    {
     "name": "stdout",
     "output_type": "stream",
     "text": [
      "The winner is: B\n",
      "{'C': 16, 'B': 18, 'D': 15, 'A': 11}\n"
     ]
    }
   ],
   "source": [
    "winner, counts = borda_vote(preferences)\n",
    "print(\"The winner is:\", winner)\n",
    "\n",
    "# Borda method breaks does not have a tie between C and B and declares B the winner\n",
    "print(counts)"
   ]
  },
  {
   "attachments": {},
   "cell_type": "markdown",
   "metadata": {},
   "source": [
    "# Instant-runoff Voting"
   ]
  },
  {
   "cell_type": "code",
   "execution_count": 3,
   "metadata": {},
   "outputs": [],
   "source": [
    "# Instant-runoff\n",
    "def IRV(preferences):\n",
    "    pass"
   ]
  },
  {
   "cell_type": "code",
   "execution_count": 9,
   "metadata": {},
   "outputs": [
    {
     "name": "stdout",
     "output_type": "stream",
     "text": [
      "The winner is: B\n",
      "{'C': 4, 'B': 6, 'D': 2, 'A': 2}\n"
     ]
    }
   ],
   "source": [
    "winner, counts = IRV(preferences)\n",
    "print(\"The winner is:\", winner)\n",
    "\n",
    "# Instant-runoff breaks the tie between C and B and declares B the winner\n",
    "print(counts)"
   ]
  },
  {
   "attachments": {},
   "cell_type": "markdown",
   "metadata": {},
   "source": [
    "# Schulze Method"
   ]
  },
  {
   "cell_type": "code",
   "execution_count": 5,
   "metadata": {},
   "outputs": [],
   "source": [
    "import networkx as nx\n",
    "from itertools import permutations\n",
    "\n",
    "def compute_pairwise_matrix(preferences: list):\n",
    "    pass\n",
    "\n",
    "def all_pairs_widest_path(weighted_graph: nx.DiGraph):\n",
    "    pass\n",
    "\n",
    "def schulze_method(preferences: list):\n",
    "    pass"
   ]
  },
  {
   "cell_type": "code",
   "execution_count": 12,
   "metadata": {},
   "outputs": [
    {
     "name": "stdout",
     "output_type": "stream",
     "text": [
      "The winner is: B\n",
      "{'C': 2, 'B': 3, 'D': 1, 'A': 0}\n"
     ]
    }
   ],
   "source": [
    "winner, counts = schulze_method(preferences)\n",
    "print(\"The winner is:\", winner)\n",
    "\n",
    "# The winner is B\n",
    "print(counts)"
   ]
  },
  {
   "cell_type": "code",
   "execution_count": null,
   "metadata": {},
   "outputs": [],
   "source": []
  }
 ],
 "metadata": {
  "kernelspec": {
   "display_name": "tf",
   "language": "python",
   "name": "python3"
  },
  "language_info": {
   "codemirror_mode": {
    "name": "ipython",
    "version": 3
   },
   "file_extension": ".py",
   "mimetype": "text/x-python",
   "name": "python",
   "nbconvert_exporter": "python",
   "pygments_lexer": "ipython3",
   "version": "3.9.18"
  },
  "orig_nbformat": 4
 },
 "nbformat": 4,
 "nbformat_minor": 2
}
