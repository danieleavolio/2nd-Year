{
 "cells": [
  {
   "cell_type": "markdown",
   "metadata": {},
   "source": [
    "# Computational Social Choice\n",
    "Computational Social Choice deals with problems arising from the aggregation of preferences of a group of agents. It has important implications when considering voting systems and elections.\n",
    "While aggregating personal preferences or computing the winner of an election might seem easy or intuitive, voting systems and aggregation rules are vulnerable to manipulation strategies. In addition, voting aggregation rules should satisfy some desired properties, such as anonimity or being difficult to manipulate.\n",
    "\n",
    "Computational social choice uses an *axiomatic method* where desired properties are treated as axioms and and consequences are derived from axioms as theorems. \n",
    "Typically, there are two types of theorems that are derived in computational social choice:\n",
    "- **Representation theorems** where, given a set of axioms, the goal is to show that a particular class of mechanisms is the only one which satisfies the set of axioms;\n",
    "- **Impossibility theorems** where, given a set of axioms, the goal is to show that there exists no aggregation rule which satisfies the set of axioms.\n",
    "\n",
    "In this lab, we are going to study some voting aggregation rules, ranging from the most commonly employed to the ones which make the possibility of ties as unlikely as possible and which exhibit the highest resistance to manipulation strategies."
   ]
  },
  {
   "cell_type": "code",
   "execution_count": 3,
   "metadata": {},
   "outputs": [],
   "source": [
    "import random"
   ]
  },
  {
   "cell_type": "code",
   "execution_count": 4,
   "metadata": {},
   "outputs": [
    {
     "name": "stdout",
     "output_type": "stream",
     "text": [
      "['C', 'B', 'D', 'A']\n",
      "['A', 'D', 'C', 'B']\n",
      "['D', 'B', 'C', 'A']\n",
      "['B', 'C', 'D', 'A']\n",
      "['C', 'D', 'A', 'B']\n",
      "['D', 'B', 'A', 'C']\n",
      "['A', 'B', 'D', 'C']\n",
      "['B', 'C', 'A', 'D']\n",
      "['B', 'A', 'C', 'D']\n",
      "['C', 'D', 'B', 'A']\n"
     ]
    }
   ],
   "source": [
    "random.seed(42)\n",
    "\n",
    "# Preferences are given as ordered lists of candidates\n",
    "C = ['A', 'B', 'C', 'D']\n",
    "\n",
    "# Generate N random permutations of C and we get preferences for N people!\n",
    "N = 10\n",
    "preferences = list()\n",
    "for i in range(N):\n",
    "    random.shuffle(C)\n",
    "    preferences.append(C.copy())\n",
    "\n",
    "for preference in preferences:\n",
    "    print(preference)"
   ]
  },
  {
   "attachments": {},
   "cell_type": "markdown",
   "metadata": {},
   "source": [
    "# Plurality Voting"
   ]
  },
  {
   "cell_type": "code",
   "execution_count": 5,
   "metadata": {},
   "outputs": [],
   "source": [
    "# Plurality vote elects the candidate ranked first more often\n",
    "\n",
    "def plurality_vote(preferences):\n",
    "    prefs = [p[0] for p in preferences]\n",
    "    print(prefs)\n",
    "\n",
    "    ladder = dict()\n",
    "\n",
    "    for p in prefs:\n",
    "        try:\n",
    "            ladder[p]+=1\n",
    "        except:\n",
    "            ladder[p] = 1\n",
    "    \n",
    "    \n",
    "    val = max(ladder.values())\n",
    "    winners = [x for x in ladder if ladder[x] == val ]\n",
    "\n",
    "    return winners, val"
   ]
  },
  {
   "cell_type": "code",
   "execution_count": 6,
   "metadata": {},
   "outputs": [
    {
     "name": "stdout",
     "output_type": "stream",
     "text": [
      "['C', 'A', 'D', 'B', 'C', 'D', 'A', 'B', 'B', 'C']\n",
      "The winner is: ['C', 'B']\n",
      "3\n"
     ]
    }
   ],
   "source": [
    "winner, counts = plurality_vote(preferences)\n",
    "print(\"The winner is:\", winner)\n",
    "\n",
    "# In this example, we actually have a tie between C and B\n",
    "print(counts)"
   ]
  },
  {
   "attachments": {},
   "cell_type": "markdown",
   "metadata": {},
   "source": [
    "# Borda counting"
   ]
  },
  {
   "cell_type": "code",
   "execution_count": 27,
   "metadata": {},
   "outputs": [],
   "source": [
    "# Borda counting\n",
    "def borda_vote(preferences:list):\n",
    "    # Borda vote elects the candidate with the highest score\n",
    "    # Score is computed by giving N-1 points to the first candidate, N-2 to the second, and so on\n",
    "    # The candidate with the highest score wins\n",
    "    # Make all the list in one \n",
    "\n",
    "    participants = set([x for y in preferences for x in y])\n",
    "    N = len(set([x for y in preferences for x in y]))-1\n",
    "\n",
    "    ladder = dict()\n",
    "    for p in participants:\n",
    "        ladder[p] = 0\n",
    "        for i in range(len(preferences)):\n",
    "            ladder[p] += (N - preferences[i].index(p))\n",
    "    \n",
    "    val = max(ladder.values())\n",
    "    winners = [x for x in ladder if ladder[x] == val ]\n",
    "\n",
    "    return winners, val\n",
    "\n"
   ]
  },
  {
   "cell_type": "code",
   "execution_count": 28,
   "metadata": {},
   "outputs": [
    {
     "name": "stdout",
     "output_type": "stream",
     "text": [
      "The winner is: ['B']\n",
      "36\n"
     ]
    }
   ],
   "source": [
    "winner, counts = borda_vote(preferences)\n",
    "print(\"The winner is:\", winner)\n",
    "\n",
    "# Borda method breaks does not have a tie between C and B and declares B the winner\n",
    "print(counts)"
   ]
  },
  {
   "attachments": {},
   "cell_type": "markdown",
   "metadata": {},
   "source": [
    "# Instant-runoff Voting"
   ]
  },
  {
   "cell_type": "code",
   "execution_count": 9,
   "metadata": {},
   "outputs": [],
   "source": [
    "# Instant-runoff\n",
    "def IRV(preferences):\n",
    "    pass"
   ]
  },
  {
   "cell_type": "code",
   "execution_count": 10,
   "metadata": {},
   "outputs": [
    {
     "ename": "TypeError",
     "evalue": "cannot unpack non-iterable NoneType object",
     "output_type": "error",
     "traceback": [
      "\u001b[1;31m---------------------------------------------------------------------------\u001b[0m",
      "\u001b[1;31mTypeError\u001b[0m                                 Traceback (most recent call last)",
      "Cell \u001b[1;32mIn[10], line 1\u001b[0m\n\u001b[1;32m----> 1\u001b[0m winner, counts \u001b[38;5;241m=\u001b[39m IRV(preferences)\n\u001b[0;32m      2\u001b[0m \u001b[38;5;28mprint\u001b[39m(\u001b[38;5;124m\"\u001b[39m\u001b[38;5;124mThe winner is:\u001b[39m\u001b[38;5;124m\"\u001b[39m, winner)\n\u001b[0;32m      4\u001b[0m \u001b[38;5;66;03m# Instant-runoff breaks the tie between C and B and declares B the winner\u001b[39;00m\n",
      "\u001b[1;31mTypeError\u001b[0m: cannot unpack non-iterable NoneType object"
     ]
    }
   ],
   "source": [
    "winner, counts = IRV(preferences)\n",
    "print(\"The winner is:\", winner)\n",
    "\n",
    "# Instant-runoff breaks the tie between C and B and declares B the winner\n",
    "print(counts)"
   ]
  },
  {
   "attachments": {},
   "cell_type": "markdown",
   "metadata": {},
   "source": [
    "# Schulze Method"
   ]
  },
  {
   "cell_type": "code",
   "execution_count": null,
   "metadata": {},
   "outputs": [],
   "source": [
    "import networkx as nx\n",
    "from itertools import permutations\n",
    "\n",
    "def compute_pairwise_matrix(preferences: list):\n",
    "    pass\n",
    "\n",
    "def all_pairs_widest_path(weighted_graph: nx.DiGraph):\n",
    "    pass\n",
    "\n",
    "def schulze_method(preferences: list):\n",
    "    pass"
   ]
  },
  {
   "cell_type": "code",
   "execution_count": null,
   "metadata": {},
   "outputs": [
    {
     "name": "stdout",
     "output_type": "stream",
     "text": [
      "The winner is: B\n",
      "{'C': 2, 'B': 3, 'D': 1, 'A': 0}\n"
     ]
    }
   ],
   "source": [
    "winner, counts = schulze_method(preferences)\n",
    "print(\"The winner is:\", winner)\n",
    "\n",
    "# The winner is B\n",
    "print(counts)"
   ]
  },
  {
   "cell_type": "code",
   "execution_count": null,
   "metadata": {},
   "outputs": [],
   "source": []
  }
 ],
 "metadata": {
  "kernelspec": {
   "display_name": "tf",
   "language": "python",
   "name": "python3"
  },
  "language_info": {
   "codemirror_mode": {
    "name": "ipython",
    "version": 3
   },
   "file_extension": ".py",
   "mimetype": "text/x-python",
   "name": "python",
   "nbconvert_exporter": "python",
   "pygments_lexer": "ipython3",
   "version": "3.9.8"
  },
  "orig_nbformat": 4
 },
 "nbformat": 4,
 "nbformat_minor": 2
}
