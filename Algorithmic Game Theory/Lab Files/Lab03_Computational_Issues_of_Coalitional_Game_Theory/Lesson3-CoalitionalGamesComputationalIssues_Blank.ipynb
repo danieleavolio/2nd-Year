{
 "cells": [
  {
   "cell_type": "markdown",
   "metadata": {},
   "source": [
    "# Tackling the computational issues of coalitional game theory\n",
    "\n",
    "In the previous lesson we have learned about transferable utility games.\n",
    "We have seen how to represent coalitional games, we have learned how to check if an outcome is in the core and we have learned to compute the Shapley value, one of the most used and important solution concepts in coalitional game theory.\n",
    "At the same time, we have seen that coalitional game theory is hard: 1) the algorithms to compute the solutions of a game are computationally expensive; and 2) the naive represention of the characteristic function grows exponentially with the number of players.\n",
    "\n",
    "In this lesson, we will see some methods to tackle the computational issues of coalitional game theory.\n",
    "1) We will introduce a particular class of coalitional games which takes the name of *Airport game*. This type of game has a specific characteristic function which allows us to compute the Shapley values exactly with a quadratic algorithm. Despite being a particular type of game, this type of game (as well as other classes of games) is not rare and has real applicability in a number of situations.\n",
    "2) We will study methods to approximate the computation of the Shapley value, including a nice Monte Carlo sampling approximation of the Shapley values, which will allow us to approximate the Shapley values of *any* game in polynomial time! We will use the Airport game here in order to create games with a sufficiently large number of players, where we know the exact Shapley values, to test the approximation methods. These approximation methods are useful in a number of situations where we cannot rely on specific classes of games or when we cannot use other smart representations of the characteristic function of a given game. For instance, the Shapley values computed to explain machine learning models rely on Monte Carlo techniques.\n",
    "3) Finally, we will see two techniques, based on graphs, of *compact representation* of games. These techniques represent the characteristic function in a compact way and take up less space. Now, instead of querying a hash table to find the value of a coalition in $\\mathcal{O}(1)$, we will compute the value of a coalition by summing over the weight of a graph, in polynomial time. These techniques will also allow us to compute the Shapley values, exactly, in polynomial time. The techniques we are going to study are the induced subgraph games, which can represent only certain types of games, and the MC-nets (Marginal Contribution Networks) which extend the induced subgraph games and can represent *any* game."
   ]
  },
  {
   "cell_type": "code",
   "execution_count": null,
   "metadata": {},
   "outputs": [],
   "source": [
    "# Code from the previous lecture\n",
    "\n",
    "from math import factorial\n",
    "from itertools import combinations\n",
    "\n",
    "# A function to generate the powerset: it returns a list of 2^n frozen sets\n",
    "def powerset(List):\n",
    "    subs = [frozenset(j) for i in range(len(List)) for j in combinations(List, i+1)]\n",
    "    subs += [frozenset()] # The empty set, to represent normalised characteristic function\n",
    "    return subs\n",
    "\n",
    "# A function to compute the Shapley value of a player, given a naive representation of the characteristic function as a dictionary of frozen sets\n",
    "# This function expects a normalised characteristic function: that is, a dictionary containing the couple frozenset():0\n",
    "def shapley_value(player, characteristic_function):\n",
    "    player = set([player])\n",
    "    N = len(max(characteristic_function, key = len))\n",
    "    shapley_val = 0\n",
    "    for coalition in characteristic_function:\n",
    "        S = len(coalition)\n",
    "        marginal_contribution = characteristic_function[coalition] - characteristic_function[coalition - player]\n",
    "        if marginal_contribution:\n",
    "            shapley_val += ((factorial(N - S) * factorial(S - 1)) / factorial(N)) * marginal_contribution\n",
    "    return round(shapley_val, 10)\n",
    "\n",
    "# This function returns a dictionary with the Shapley value for each player\n",
    "def shapley(characteristic_function):\n",
    "    return {player: shapley_value(player, characteristic_function) for player in max(characteristic_function)}"
   ]
  },
  {
   "attachments": {},
   "cell_type": "markdown",
   "metadata": {},
   "source": [
    "## The airport game (simplest version)\n",
    "The airport game is a classic example of a fair division problem. That is, a problem where the goal is to divide fairly the cost of a good among a set of players. \n",
    "Specifically, this problem deals with how to distribute the cost of an airport runway among different players who need runways of different lengths.\n",
    "The problem was introduced by S. C. Littlechild and G. Owen in 1973<a name=\"cite_ref-1\"></a>[<sup>[1]</sup>](#cite_note-1). </br>\n",
    "The idea behind this game is the following: suppose that the cost of the runway is €1000 for each km. We have 4 players who need runways of 8, 11, 13, and 18 km, with associated costs €8000, €11000, €13000, nd €18000. A runway of 18km for a total cost of €18000 will serve all the four players. How should they divide the cost in a fair way? Littlechild and Owen provide the following solution:\n",
    "\n",
    "1. Divide the cost associated to the smallest runway equally among the players.\n",
    "2. Divide the *incremental* cost to build the next smallest runaway equally among the remaining players.\n",
    "3. Repeat the process until we have considered all the players.\n",
    "\n",
    "In the aforementioned example, with 4 players, we have the following costs:\n",
    "- Player 1 pays €8000/4 = €2000\n",
    "- Player 2 pays the cost payed by Player 1 plus an increment of (€11000 - €8000)/3 = €3000/3 = €1000. Player 2 pays €2000 + €1000 = €3000 in total.\n",
    "- Player 3 pays the cost payed by Player 2 plus an increment of (€13000 - €11000)/2 = €2000/2 = €1000. Player 3 pays €3000 + €1000 = €4000 in total.\n",
    "- Player 4 pays the cost payed by Player 3 plus an increment of (€18000 - €13000)/2 = €5000. Player 4 pays €4000 + €5000 = €9000 in total.\n",
    "\n",
    "Or in tabular form:\n",
    "Player | Adding 1 | Adding 2 | Adding 3 | Adding 4 | Shapley value\n",
    ":---|:---:|:---:|:---:|:---:|---:|\n",
    "Marginal Cost | €8000 | €3000 | €2000 | €5000 | |\n",
    "Cost to 1 | €2000 | | | | **€2000** |\n",
    "Cost to 2 | €2000 | €1000 | | | **€3000** |\n",
    "Cost to 3 | €2000 | €1000 | €1000 | | **€4000** |\n",
    "Cost to 4 | €2000 | €1000 | €1000 | €5000 | **€9000** |\n",
    "\n",
    "As such, the players will split the total cost of €18000 in this way: (€2000, €3000, €4000, €9000).</br>\n",
    "Littlechild and Owen show that this way of dividing the total cost coincides with the Shapley Values of the players in the following coalitional game.\n",
    "\n",
    "### Formal definition of the airport game\n",
    "The airport game is defined on a set of players $N = \\{1,2,3,\\dots,n\\}$. \n",
    "Each player $i$ has is associated with $c_i$, which represents the cost of the runway that $i$ needs.\n",
    "Suppose, for simplicity, that costs are distinct and let $c_1 \\lt c_2 \\lt c_3 \\lt \\dots \\lt c_n$.\n",
    "The characteristic function of such a game is defined as follows:\n",
    "\n",
    "$$ v(S) = \\max_{i \\in S} c_i \\qquad \\forall S \\subseteq N$$\n",
    "\n",
    "The cost that each player should pay, i.e. the Shapley value, is computed as follows:\n",
    "\n",
    "$$\\phi_i = \\sum_{j = 1}^{i} \\frac{c_j - c_{j-1}}{n-j+1} \\qquad \\forall i \\in N; \\quad c_0 = 0$$\n",
    "\n",
    "The airport game is a particular example of game for which we can compute the Shapley value in polynomial time. Precisely, by following the previous formula, we can compute the Shapley value $\\mathcal{O}(n^2)$ operations.\n",
    "\n",
    "The version discussed here, is the simplest version of the airport problem. The origrinal from Littlechild and Owen introduces a more complicated and realistic version of the problem. The airport problem has been extended in many ways in order to consider the number of companies, the number of aircrafts per company, the different types of aircrafts, and so on. If you desire to read more about the airport problem and its variations, you can consider these two papers<a name=\"cite_ref-2\"></a>[<sup>[2]</sup>](#cite_note-2)<a name=\"cite_ref-3\"></a>[<sup>[3]</sup>](#cite_note-3).\n",
    "\n",
    "\n",
    "<hr style=\"width:10%;text-align:left;margin-left:0\">\n",
    "\n",
    "<a name=\\cite_note-1\\></a>1. [^](#cite_ref-1): Littlechild, S. C., & Owen, G. (1973). A Simple Expression for the Shapely Value in a Special Case. Management Science, 20(3), 370–372. http://www.jstor.org/stable/2629727</br>\n",
    "<a name=\\cite_note-2\\></a>2. [^](#cite_ref-2): Vázquez-Brage, M., van den Nouweland, A., & Garcıa-Jurado, I. (1997). Owen's coalitional value and aircraft landing fees. Mathematical Social Sciences, 34(3), 273-286. </br>\n",
    "<a name=\\cite_note-3\\></a>3. [^](#cite_ref-3): Hou, D., Sun, H., Sun, P., & Driessen, T. (2018). A note on the Shapley value for airport cost pooling game. Games and economic behavior, 108, 162-169."
   ]
  },
  {
   "cell_type": "code",
   "execution_count": null,
   "metadata": {},
   "outputs": [],
   "source": [
    "# A function to directly compute the Shapley values for the airport game\n",
    "def airport_game_shapley_value(cost_list):\n",
    "    # Your code here!\n",
    "    pass\n",
    "\n",
    "# A function that, taken in input a vector of costs for the airport game, generates the corresponding characteristic function.\n",
    "def airport_game_characteristic_function(cost_list):\n",
    "    player_list = [str(i) for i in range(len(cost_list))]\n",
    "    return {subset: (max([cost_list[int(i)] for i in subset]) if subset != frozenset() else 0) for subset in powerset(player_list)}"
   ]
  },
  {
   "cell_type": "code",
   "execution_count": null,
   "metadata": {},
   "outputs": [],
   "source": [
    "# Let's print the characteristic function of the airport game we have described before\n",
    "cost_list = [8000, 11000, 13000, 18000]\n",
    "v = airport_game_characteristic_function(cost_list)\n",
    "for k in v: \n",
    "    print(k, ': ', v[k])"
   ]
  },
  {
   "cell_type": "code",
   "execution_count": null,
   "metadata": {},
   "outputs": [],
   "source": [
    "# Let's compute the Shapley value with the specialised formula for the airport game\n",
    "print(airport_game_shapley_value(cost_list))"
   ]
  },
  {
   "cell_type": "code",
   "execution_count": null,
   "metadata": {},
   "outputs": [],
   "source": [
    "# Let's compute the Shapley value with the exponential formula\n",
    "print(shapley(v))"
   ]
  },
  {
   "cell_type": "code",
   "execution_count": null,
   "metadata": {},
   "outputs": [],
   "source": [
    "import time\n",
    "import random\n",
    "from sys import getsizeof\n",
    "# Let's make a random airport game with only 20 players and let's compare the computational time to obtain the Shapley value with both algorithms\n",
    "cost_list = sorted(random.sample(range(1,100), 20))\n",
    "v = airport_game_characteristic_function(cost_list)\n",
    "print(\"Even if we have just 20 players, the naive representation of the characteristic function stores %d couples of coalitions and their respective value, as opposed to the only 20 values stored by the cost vector for the airport game.\" %len(v))\n",
    "print(\"The memory footprint of the cost vector is %d bytes, while the memory footprint of the characteristic function is %s bytes!\" %(getsizeof(cost_list), getsizeof(v)))\n",
    "st = time.time()\n",
    "shap_vals_a = airport_game_shapley_value(cost_list)\n",
    "et = time.time()\n",
    "print(\"Computational time with the specialized quadratic formula for the airport game: \", et - st, \"seconds\")\n",
    "st = time.time()\n",
    "shap_vals_g = shapley(v)\n",
    "et = time.time()\n",
    "print(\"Computational time with the general exponential formula on characteristic function games: \", et - st, \"seconds\")"
   ]
  },
  {
   "attachments": {},
   "cell_type": "markdown",
   "metadata": {},
   "source": [
    "# Montecarlo approximation of the Shapley value\n"
   ]
  },
  {
   "cell_type": "code",
   "execution_count": null,
   "metadata": {},
   "outputs": [],
   "source": [
    "def permutation_sampling(player_list, m):\n",
    "    # Your code here!\n",
    "    pass\n",
    "\n",
    "def predecessors(player, player_list, permutation):\n",
    "    # Your code here!\n",
    "    pass\n",
    "\n",
    "def shapley_montecarlo(characteristic_function, m):\n",
    "    # Your code here!\n",
    "    pass"
   ]
  },
  {
   "cell_type": "code",
   "execution_count": null,
   "metadata": {},
   "outputs": [],
   "source": [
    "# A function to evaluate the mean absolute percentage error between two vectors. We use this to evaluate the Montecarlo approximation of the Shapley value\n",
    "# Mean absolute percentage error\n",
    "def mape(reference, approximation):\n",
    "    assert len(reference) == len(approximation), \"The two lists have different lengths\"\n",
    "    N = len(reference)\n",
    "    return sum([abs((x_i - y_i)/x_i) for x_i, y_i in zip(reference, approximation)])/N"
   ]
  },
  {
   "cell_type": "code",
   "execution_count": null,
   "metadata": {},
   "outputs": [],
   "source": [
    "# A random airport game with 20 players\n",
    "cost_list = sorted(random.sample(range(1,100), 20))\n",
    "v = airport_game_characteristic_function(cost_list)\n",
    "\n",
    "# Getting the values from the Montecarlo approximation of the Shapley Value\n",
    "approx_shapley = [elem[1] for elem in sorted(shapley_montecarlo(v, 1000).items(), key=lambda x: x[1])]\n",
    "exact_shapley = airport_game_shapley_value(cost_list)\n",
    "\n",
    "# Evaluating the error\n",
    "mape(exact_shapley, approx_shapley)"
   ]
  },
  {
   "attachments": {},
   "cell_type": "markdown",
   "metadata": {},
   "source": [
    "## Optional: run a small experiment to analyse how the mean absolute percentage error decreases as the number of samples m increases"
   ]
  },
  {
   "cell_type": "code",
   "execution_count": null,
   "metadata": {},
   "outputs": [],
   "source": [
    "# Your code here!"
   ]
  },
  {
   "cell_type": "markdown",
   "metadata": {},
   "source": [
    "# Induced Subgraph Games\n",
    "Induced subgraph games are a compact way to represent a particular class of coalitional games with a specific form for the characteristic function. An induced subgraph is a tuple $\\mathcal{G}(V, E, \\mathbf{w})$ where $V$ is the set of nodes, or vertices, of the graph, $E$ is the set of edges, and $\\mathbf{w}$ is a vector of weights on the edges. In such a graph, players are represented as nodes, edges represent coalitions of two players and weights represent the value of the coalition between any two players. Self loops are allowed in order to express the value of a player. In induced subgraph games, the value of a coalition $C \\subseteq N$ is given by the sum of the weights $w_{ij}$ in the graph whose components are all contained in $C$. That is:\n",
    "\n",
    "$$v(C) = \\sum_{\\{i,j\\} \\subseteq C} w_{ij}$$\n",
    "\n",
    "This representation is useful to model interactions between the players in social networks. With this representation it is also possible to express whether any two players are in a synergical relation &ndash; for instance, when two players are together their value is higher than the sum of their values taken singualarly &ndash; or if they are in a detrimental relation, such as a situation in which when two player are together they obstacolate each other and lower their value.\n",
    "\n",
    "In induced subgraph games, the computation of the Shapley value for a player $i$ is given by $v(\\{i\\})$ plus half of the sum of all the edges adjacent to $i$. That is:\n",
    "\n",
    "$$\\phi_i = w_{ii} + \\frac{1}{2} \\sum_{j \\in \\Gamma(i)} w_{ij}$$\n",
    "\n",
    "where $\\Gamma(i)$ is the neighbourhood function, which returns all the nodes $j$ adjacent to $i$.\n",
    "\n",
    "Induced subgraph games allow us to represent many games, but not all games. For instance, the ariport game we have seen before cannot be represented as an induced subgraph game.</br>\n",
    "In order to implement induced subgraph games in Python, we can use one of the libraries that implement graphs data structures and graph algorithms. A very good library, to this extent, is NetworkX: a library for graph data processing and analysis, which implements many graph algorithms and functions for social network analysis. It offers an easy to use and intuitive API, which makes working with graph data extremely simple. Being purely written in Python, however, it is not the fastest library available. If you are interested in sensibly faster graph processing and analysis libraries, please consider iGraph, NetworKit, or graph-tool.</br>\n",
    "You can find the documentation of NetworkX here: https://networkx.org/documentation/stable/index.html"
   ]
  },
  {
   "cell_type": "code",
   "execution_count": null,
   "metadata": {},
   "outputs": [],
   "source": [
    "import networkx as nx"
   ]
  },
  {
   "attachments": {},
   "cell_type": "markdown",
   "metadata": {},
   "source": [
    "Now, we create a random graph with random edge weights; subsequently we will compute the Shapley values for the induced subgraph game, with the formula we have seen above. We will then translate the graph into a characteristic function and we will use the generic exponential formula to compute the Shapley value, in order to confirm that the Shapley values computed with both formula are, in fact, the same."
   ]
  },
  {
   "cell_type": "code",
   "execution_count": null,
   "metadata": {},
   "outputs": [],
   "source": [
    "# We create a random graph (also known as Erdos-Renyi model) G, with 10 nodes and 25 edges.\n",
    "# An undirected graph with N nodes can have at most (N*(N+1))/2 edges, if we exclude self-loops; N + (N*(N+1))/2 edges if we include self loops. In ourt case, we could have up to 65 edges, including self-loops. If two players are not connected with an edge, their coalition has value 0.\n",
    "# The following command does not create self-loops.\n",
    "G = nx.gnm_random_graph(10, 25)\n",
    "\n",
    "# Let's add a self-loop for each node\n",
    "for node in G.nodes():\n",
    "    G.add_edge(node, node)"
   ]
  },
  {
   "cell_type": "code",
   "execution_count": null,
   "metadata": {},
   "outputs": [],
   "source": [
    "# The function G.edges() returns a list of tuples in the format (source_node, destination_node).\n",
    "# Each edge offers a dictionary where we can store information about the edge. \n",
    "# We can access the dictionary of each edge as follows: G.edges[source_node, destination_node]\n",
    "# We can use the dictionary of edge attributes to assign each edge a random weight as an integer between 0 and 100\n",
    "for i,j in G.edges():\n",
    "    G.edges[i,j]['weight'] = random.randint(1,100)\n",
    "\n",
    "# To retrieve the data in the dictionary we have to specify \"data=True\" in the function G.edges.\n",
    "print(G.edges(data=True))"
   ]
  },
  {
   "attachments": {},
   "cell_type": "markdown",
   "metadata": {},
   "source": [
    "Now, lets implement a function to compute the value of a coalition for induced subgraph games."
   ]
  },
  {
   "cell_type": "code",
   "execution_count": null,
   "metadata": {},
   "outputs": [],
   "source": [
    "def ISG_coalition_value(graph, coalition):\n",
    "    # Your code here"
   ]
  },
  {
   "cell_type": "code",
   "execution_count": null,
   "metadata": {},
   "outputs": [],
   "source": [
    "ISG_coalition_value(G, {0,1,2,5})"
   ]
  },
  {
   "attachments": {},
   "cell_type": "markdown",
   "metadata": {},
   "source": [
    "Let's write a function to compute the Shapley value for the ISG"
   ]
  },
  {
   "cell_type": "code",
   "execution_count": null,
   "metadata": {},
   "outputs": [],
   "source": [
    "def ISG_shapley_value(graph):\n",
    "    # Your code here!"
   ]
  },
  {
   "cell_type": "code",
   "execution_count": null,
   "metadata": {},
   "outputs": [],
   "source": [
    "ISG_shapley_value(G)"
   ]
  },
  {
   "cell_type": "markdown",
   "metadata": {},
   "source": [
    "Let's define now a function to convert the induced subgraph game into a characteristic function game (CFG). As usual, we first generate all the possible coalitions. Then we compute the value of each coalition and organise everyting in a dictionary.\n",
    "The following one-liner does everything!"
   ]
  },
  {
   "cell_type": "code",
   "execution_count": null,
   "metadata": {},
   "outputs": [],
   "source": [
    "def from_ISG_to_CFG(graph):\n",
    "    return {coalition : (ISG_coalition_value(graph, coalition) if coalition != frozenset() else 0) for coalition in powerset(graph.nodes)}"
   ]
  },
  {
   "cell_type": "code",
   "execution_count": null,
   "metadata": {},
   "outputs": [],
   "source": [
    "v = from_ISG_to_CFG(G)\n",
    "print(v)\n",
    "print(shapley(v))\n",
    "# Let's check that Shapley values computed with the ISG formula are the same Shapley value computed with the CFG formula\n",
    "if all([round(isg_s, 10) == round(cfg_s, 10) for isg_s, cfg_s in zip(shapley(v).values(), ISG_shapley_value(G).values())]):\n",
    "    print(\"The Shapley values are the same!\")"
   ]
  },
  {
   "cell_type": "code",
   "execution_count": null,
   "metadata": {},
   "outputs": [],
   "source": [
    "# Here is the beauty of compact representation. Our game can be represented with just 35 edges and weights on a graph with 10 nodes. The naive representation stores 1023 values!\n",
    "import sys\n",
    "print('The compact ISG representation uses %d bytes' %sys.getsizeof(G))\n",
    "print('The naive CFG representation uses %d bytes' %sys.getsizeof(v))"
   ]
  },
  {
   "attachments": {},
   "cell_type": "markdown",
   "metadata": {},
   "source": [
    "# Marginal Contribution Nets\n",
    "The last compact representation that we will study is the Marginal Contribution Nets (MC-nets, in short)<a name=\"cite_ref-1\"></a>[<sup>[1]</sup>](#cite_note-1). This compact representation uses a logic approach to represent games and can be seen as an extension of the induced subgraph games representation.</br>\n",
    "MC-nets represent coalitional games using sets of *rules* in the following syntactic form:\n",
    "\n",
    "$$Pattern \\longrightarrow value$$\n",
    "\n",
    "The value associated with a pattern is the marginal contribution of that pattern. A rule applies to a set of players $S$ if $S$ meets the requirements of the $Pattern$. These patterns can be represented by any logical formula over the players; but, in its most basic form, a pattern is a conjunction of players. $S$ meets the requirements of a given pattern if $S$ is a superset of it. The value of $S$ is defined as the sum over the values of all the rules that apply to $S$.\n",
    "\n",
    "For instance, let's consider the following game represented as an MC-net:\n",
    "\n",
    "$$ \n",
    "    \\begin{aligned}\n",
    "        \\{a \\land b \\} \\longrightarrow 5 \\\\\n",
    "        \\{ b \\} \\longrightarrow 2\n",
    "    \\end{aligned}\n",
    "$$\n",
    "\n",
    "This game encodes the following characteristic function:\n",
    "\n",
    "$$ v(\\emptyset) = 0, \\qquad v(\\{a\\}) = 0, \\qquad v(\\{b\\}) = 2, \\qquad v(\\{a,b\\}) = 5 + 2 = 7 $$\n",
    "\n",
    "Now, it is possible to show that if we allow negative values or negative literals in the patterns (i.e. rules such as $\\{p \\land \\neg q \\longrightarrow value\\}$), MC-nets can represent any coalitional game. Therefore, this compact representation is complete!\n",
    "\n",
    "MC-nets have a graphical interpretation. Each rule describes a clique (that is, a fully connected graph) where the nodes are the players in the pattern and the edges of the clique are weighted accordingly to the value associated with said pattern. More interestingly, however, MC-nets can naturally be represented as hypergraphs. Hypergraphs are generalisations of graphs, where hyperedges can connect more than two nodes at once. In the hypergraph representation, each pattern is an hyperedge weighted with the value associated to said pattern. As such, the MC-net is a natural generalisation of the induced subgraph game representation we have seen before. Since we can treat each rule as a standalone game, in order to compute the Shapley value for the whole game we can take advantage of the additivity property of the Shapley values. We can compute the Shapley value of a player in an MC-net representation by summing over the Shapley values for said player computed for each rule. If we allow for negative values, we can compute the Shapley value of a player $i$ as follows:\n",
    "\n",
    "$$\\phi_i = \\sum_{\\varphi \\longrightarrow x \\in rs_i} \\frac{x}{|\\varphi|}$$\n",
    "\n",
    "where $\\varphi \\longrightarrow x$ is a rule in the form $Pattern \\longrightarrow value$; $rs_i$ is the set of rules that apply to player $i$, and $|\\varphi|$ is the cardinality (i.e. the number of players) of the pattern $\\varphi$.\n",
    "\n",
    "While in Python there are many libraries for graph analysis and manipulation, the same could not be said for hypergraphs, until some years ago. I have recently found that, since 2020, two Python libraries for hypergraph analysis and manipulation have been developed: HyperNetX, and hypergraphx. These libraries seem to be quite well developed, well maintained, and stable. So, we could implement MC-nets directly as hypergraphs. However, we will take a different, more naive, approach to implement MC-nets. I leave it to you, as a self-study homework, to implement MC-nets as hypergraphs.</br>\n",
    "In the following, we are going to implement MC-nets simply as sets of rules. Each rule will be encoded as a couple $(P, v)$ where $P$ is a set of players, intended as a conjunction of players, and $v$ is the value associated with $P$; $v$ can also be negative, so we can represent any game. As usual, we will implement a function to get the value of a coalition and a function to compute the Shapley values.\n",
    "\n",
    "\n",
    "<hr style=\"width:5%;text-align:left;margin-left:0\">\n",
    "\n",
    "<a name=\\cite_note-1\\></a>1. [^](#cite_ref-1): Ieong, S., & Shoham, Y. (2005, June). Marginal contribution nets: a compact representation scheme for coalitional games. In Proceedings of the 6th ACM Conference on Electronic Commerce (pp. 193-202)."
   ]
  },
  {
   "cell_type": "code",
   "execution_count": null,
   "metadata": {},
   "outputs": [],
   "source": [
    "# We can represent the airport game defined by the cost vector c=(5, 7, 10) as follow.\n",
    "MC_net = [\n",
    "    ({\"A\"}, 5),\n",
    "    ({\"B\"}, 7),\n",
    "    ({\"C\"}, 10),\n",
    "    ({\"A\", \"B\"}, -5),\n",
    "    ({\"A\", \"C\"}, -5),\n",
    "    ({\"B\", \"C\"}, -7),\n",
    "    ({\"A\", \"B\", \"C\"}, 5)\n",
    "]"
   ]
  },
  {
   "cell_type": "code",
   "execution_count": null,
   "metadata": {},
   "outputs": [],
   "source": [
    "# To find the value of a coalition we need to iterate through all the rules in the MC-net and adding all the values for the rules which apply.\n",
    "# A rule applies to a coalition if the coalition is a superset of the pattern. Sets, in Python, provide such a function.\n",
    "coalition = set([\"A\", \"B\", \"C\"])\n",
    "for rule in MC_net:\n",
    "    if coalition.issuperset(rule[0]):\n",
    "        print(coalition, 'is a superset of', rule[0])"
   ]
  },
  {
   "cell_type": "code",
   "execution_count": null,
   "metadata": {},
   "outputs": [],
   "source": [
    "# A function to compute the value of a coalition\n",
    "def MC_net_coalition_value(MC_net, coalition):\n",
    "    # Your code here!\n",
    "    pass"
   ]
  },
  {
   "cell_type": "code",
   "execution_count": null,
   "metadata": {},
   "outputs": [],
   "source": [
    "# A function to compute the Shapley value for MC-nets\n",
    "def MC_net_shapley_value(MC_net):\n",
    "    # Your code here\n",
    "    pass"
   ]
  },
  {
   "cell_type": "code",
   "execution_count": null,
   "metadata": {},
   "outputs": [],
   "source": [
    "MC_net_coalition_value(MC_net, {\"A\", \"C\"})"
   ]
  },
  {
   "cell_type": "markdown",
   "metadata": {},
   "source": [
    "Similarly to what we have done for the induced subgraph games, we now write a function to transform an MC-net into a characteristic function.\n",
    "As usual, we just need to generate all the partitions of the set of players, compute their value, and organise everything in a dictionary.\n",
    "This results in another one-liner."
   ]
  },
  {
   "cell_type": "code",
   "execution_count": null,
   "metadata": {},
   "outputs": [],
   "source": [
    "def from_MC_net_to_CFG(MC_net):\n",
    "    return {coalition : (MC_net_coalition_value(MC_net, set(coalition)) if coalition != frozenset() else 0) for coalition in powerset(max(MC_net)[0])}"
   ]
  },
  {
   "cell_type": "code",
   "execution_count": null,
   "metadata": {},
   "outputs": [],
   "source": [
    "v = from_MC_net_to_CFG(MC_net)"
   ]
  },
  {
   "cell_type": "code",
   "execution_count": null,
   "metadata": {},
   "outputs": [],
   "source": [
    "shapley(v)"
   ]
  },
  {
   "cell_type": "code",
   "execution_count": null,
   "metadata": {},
   "outputs": [],
   "source": [
    "MC_net_shapley_value(MC_net)"
   ]
  },
  {
   "cell_type": "code",
   "execution_count": null,
   "metadata": {},
   "outputs": [],
   "source": []
  }
 ],
 "metadata": {
  "kernelspec": {
   "display_name": "tf",
   "language": "python",
   "name": "python3"
  },
  "language_info": {
   "codemirror_mode": {
    "name": "ipython",
    "version": 3
   },
   "file_extension": ".py",
   "mimetype": "text/x-python",
   "name": "python",
   "nbconvert_exporter": "python",
   "pygments_lexer": "ipython3",
   "version": "3.9.18"
  },
  "orig_nbformat": 4
 },
 "nbformat": 4,
 "nbformat_minor": 2
}
