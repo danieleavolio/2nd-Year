{
 "cells": [
  {
   "attachments": {},
   "cell_type": "markdown",
   "metadata": {},
   "source": [
    "# VCG\n",
    "\n",
    "Assume $n = 4$ items and $m = 5$ bidders. We solve the VCG mechanism for the most general (and harder) case of combinatorial auctions, and non additive bidders' evalutions. The other cases are easier case of this general case and will follow directly."
   ]
  },
  {
   "cell_type": "code",
   "execution_count": 249,
   "metadata": {},
   "outputs": [],
   "source": [
    "# Bidders' evaluations\n",
    "v = {\n",
    "    'a': {\n",
    "        frozenset({'A'}):2, \n",
    "        frozenset({'A', 'B'}):5, \n",
    "        frozenset({'B'}):2,\n",
    "        frozenset({'D'}):7\n",
    "    },\n",
    "    'b':{\n",
    "        frozenset({'C'}): 10,\n",
    "        frozenset({'D'}):8\n",
    "    },\n",
    "    'c':{\n",
    "        frozenset({'C', 'D'}):15,\n",
    "        frozenset({'D'}):10\n",
    "    },\n",
    "    'd':{\n",
    "        frozenset({'B', 'C'}):10,\n",
    "        frozenset({'B'}):8\n",
    "    },\n",
    "    'e':{\n",
    "        frozenset({'A', 'B'}):11,\n",
    "        frozenset({'A', 'B', 'C', 'D'}):20\n",
    "    }\n",
    "}"
   ]
  },
  {
   "cell_type": "code",
   "execution_count": 250,
   "metadata": {},
   "outputs": [
    {
     "data": {
      "text/plain": [
       "{'a': {frozenset({'A'}): 2,\n",
       "  frozenset({'A', 'B'}): 5,\n",
       "  frozenset({'B'}): 2,\n",
       "  frozenset({'D'}): 7},\n",
       " 'b': {frozenset({'C'}): 10, frozenset({'D'}): 8},\n",
       " 'c': {frozenset({'C', 'D'}): 15, frozenset({'D'}): 10},\n",
       " 'd': {frozenset({'B', 'C'}): 10, frozenset({'B'}): 8},\n",
       " 'e': {frozenset({'A', 'B'}): 11, frozenset({'A', 'B', 'C', 'D'}): 20}}"
      ]
     },
     "execution_count": 250,
     "metadata": {},
     "output_type": "execute_result"
    }
   ],
   "source": [
    "v"
   ]
  },
  {
   "cell_type": "code",
   "execution_count": 251,
   "metadata": {},
   "outputs": [],
   "source": [
    "import copy as cp\n",
    "\n",
    "def from_dict_to_list_bids(bids):\n",
    "    '''\n",
    "    This function converts the dictionary of bidders' evaluation into a list of tuples\n",
    "    '''\n",
    "    l = [(bidder, itemset, value) for bidder in bids for itemset,value in bids[bidder].items()]\n",
    "    return l\n",
    "\n",
    "def is_admissible(configuration):\n",
    "    '''\n",
    "    This function returns True if the configuration is admissible and False otherwise.\n",
    "\n",
    "    A configuration is admissible if and only if the following two conditions are satisfied:\n",
    "        1) every bidder gets at most one bundle\n",
    "        2) the allocated bundles are disjoint\n",
    "    '''\n",
    "    one_bundle_per_bidder = len(set([elem[0] for elem in configuration])) == len(configuration)\n",
    "    disjoint = pairwise_disjoint([elem[1] for elem in configuration])\n",
    "    return disjoint and one_bundle_per_bidder \n",
    "\n",
    "def pairwise_disjoint(sets):\n",
    "    '''\n",
    "    This function checks wether the sets contained in a list are pairwise disjoint\n",
    "    '''\n",
    "    union = set().union(*sets)\n",
    "    return len(union) == sum(map(len, sets))\n",
    "\n",
    "\n",
    "def binary_indices(n):\n",
    "    '''\n",
    "    Given an integer n, this function returns the indices of the bits that are set to one.\n",
    "    It performs a conversion from decimal to binary number and it returns the indices of the bits equal to one.\n",
    "    Such a function is useful to select the elements of a set in order to build all possible configurations.\n",
    "    '''\n",
    "\n",
    "    bits = []\n",
    "    while n:\n",
    "        bits.append(n % 2)\n",
    "        n = n // 2\n",
    "    return [i for i in range(len(bits)) if bits[i] == 1]\n",
    "\n",
    "\n",
    "def compute_configuration_value(configuration):\n",
    "    '''\n",
    "    A configuration is a list of tuples with the following semantic: (bidder, itemset, value).\n",
    "    This function computes the total value of a configuration.\n",
    "    '''\n",
    "    return sum([elem[2] for elem in configuration])\n",
    "\n",
    "def compute_winner(bids):\n",
    "    ''' \n",
    "    This function computes the winner of a combinatorial auction\n",
    "    Determining the winner of a combinatorial auction, under the VCG mechanism amounts to solving the\n",
    "    weighted set packing problem, shich is NP-Hard. Here, in order to solve this problem, we use an algorithm\n",
    "    that enumerates all the possible assignments and selects the admissible assignments with the maximum\n",
    "    social welfare.\n",
    "\n",
    "    This implementation is not the most efficient possible, since it generates all the possible configurations\n",
    "    including non admissible configurations. This problem can be mitigated through techniques such as \n",
    "    constraint propagation, recursive search strategies, and backtracking.\n",
    "    '''\n",
    "    l = from_dict_to_list_bids(bids)\n",
    "    N = len(l)\n",
    "    omega_star = []\n",
    "    omega_star_value = 0\n",
    "    for i in range(1, 2**N - 1):\n",
    "        idx = binary_indices(i)\n",
    "        configuration = [l[j] for j in idx]\n",
    "        if is_admissible(configuration):\n",
    "            value = compute_configuration_value(configuration)\n",
    "            if value > omega_star_value:\n",
    "                omega_star = configuration\n",
    "                omega_star_value = value\n",
    "    return (omega_star, omega_star_value)\n",
    "\n",
    "def VCG_auction(bids):\n",
    "    '''\n",
    "    This function implements the VCG mechanism. It takes in input the bids for the auction and provides in output:\n",
    "        1) the optimal allocation of the items\n",
    "        2) the price each winner has to pay\n",
    "    \n",
    "    The format of the output is a list of tuples with the following semantic: (bidder, itemset, price).\n",
    "    Example:\n",
    "                ('a', {'I1', 'I2'}, 30) --> Bidder 'a' receives the bundle {'I1', 'I2'} and pays 30\n",
    "\n",
    "    In VCG mechanism, the optimal allocation is the allocation which maximises the social welfare.That is:\n",
    "\n",
    "                $$ \\omega^* = \\\\argmax_{\\omega \\in \\Omega} \\sum_{i \\in N} v_i(\\omega) $$\n",
    "\n",
    "    The amount each player pays is the externality they impose on all the other players. That is:\n",
    "\n",
    "                $$ p_i(\\omega^*) = \\max_{\\omega \\in \\Omega} \\sum_{j \\\\neq i \\in N} v_j(\\omega) - \\sum_{j \\\\neq i} v_j(w^*)$$ \n",
    "\n",
    "    '''\n",
    "    omega_star, omega_star_value = compute_winner(bids)\n",
    "    VCG_allocation = []\n",
    "    for player in bids:\n",
    "        bids_wo_player = cp.copy(bids)\n",
    "        del bids_wo_player[player]\n",
    "        _, value_wo_player = compute_winner(bids_wo_player)\n",
    "        sum_omega_values = sum([elem[2] for elem in omega_star if elem[0] != player])\n",
    "        itemset = [item[1] for item in omega_star if item[0] == player]\n",
    "        VCG_payment = (player, itemset, value_wo_player - sum_omega_values)\n",
    "        VCG_allocation.append(VCG_payment)\n",
    "    return(VCG_allocation)"
   ]
  },
  {
   "cell_type": "code",
   "execution_count": 252,
   "metadata": {},
   "outputs": [
    {
     "data": {
      "text/plain": [
       "([('b', frozenset({'C'}), 10),\n",
       "  ('c', frozenset({'D'}), 10),\n",
       "  ('e', frozenset({'A', 'B'}), 11)],\n",
       " 31)"
      ]
     },
     "execution_count": 252,
     "metadata": {},
     "output_type": "execute_result"
    }
   ],
   "source": [
    "compute_winner(v)"
   ]
  },
  {
   "cell_type": "code",
   "execution_count": 253,
   "metadata": {},
   "outputs": [
    {
     "data": {
      "text/plain": [
       "[('a', [], 0),\n",
       " ('b', [frozenset({'C'})], 5),\n",
       " ('c', [frozenset({'D'})], 7),\n",
       " ('d', [], 0),\n",
       " ('e', [frozenset({'A', 'B'})], 10)]"
      ]
     },
     "execution_count": 253,
     "metadata": {},
     "output_type": "execute_result"
    }
   ],
   "source": [
    "VCG_auction(v)"
   ]
  },
  {
   "cell_type": "code",
   "execution_count": null,
   "metadata": {},
   "outputs": [],
   "source": []
  }
 ],
 "metadata": {
  "kernelspec": {
   "display_name": "tf",
   "language": "python",
   "name": "python3"
  },
  "language_info": {
   "codemirror_mode": {
    "name": "ipython",
    "version": 3
   },
   "file_extension": ".py",
   "mimetype": "text/x-python",
   "name": "python",
   "nbconvert_exporter": "python",
   "pygments_lexer": "ipython3",
   "version": "3.9.18"
  },
  "orig_nbformat": 4
 },
 "nbformat": 4,
 "nbformat_minor": 2
}
