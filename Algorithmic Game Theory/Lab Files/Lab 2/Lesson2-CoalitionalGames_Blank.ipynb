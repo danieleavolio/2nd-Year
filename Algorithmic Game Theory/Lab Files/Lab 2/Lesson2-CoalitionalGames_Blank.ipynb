{
 "cells": [
  {
   "attachments": {},
   "cell_type": "markdown",
   "metadata": {},
   "source": [
    "# Coalitional Games: Representation, Solution concepts, and Issues\n",
    "In this notebook, we will explore how to use computation to explore and solve coalitional games.\n",
    "Coalitional games, also known as Transferable Utility (TU) games, are a particular class of games where the payoff is not given to a single player but to a group (coalition) of players.\n",
    "\n",
    "Utility is *transferable* if one player can transfer part of their utility to another player, without loss. Such transfers are possible if the players have a common currency that is valued equally by all the players. It's important to note that we are still talking about utility. So, for instance, being able to transfer cash payoffs does not imply that *utility* is transferable: wealthy and poor players may derive a different utility from the same amount of money.\n",
    "\n",
    "When a group of players joins forces to reach a common goal, for example by pooling their money to buy a common good, the players need to decide how to divide the payoff. We will see how to answer this question! </br>\n",
    "We might also want to know what coalitions are likely to emerge. This might be a tough question, since if we have n players, then we have $2^n$ possible coalitions."
   ]
  },
  {
   "attachments": {},
   "cell_type": "markdown",
   "metadata": {},
   "source": [
    "## An example of coalitional game: Buying ice-cream\n",
    "Let's consider a coalitional game where we have three players (Alice, Bob, and Charlie) who want to buy and divide ice-cream.</br>\n",
    "Each player has a fixed amount of money:\n",
    "* A = $6\n",
    "* B = $3\n",
    "* C = $3\n",
    "\n",
    "Three types of ice-cream tubs are for sale:\n",
    "* Type 1 costs $7, contains 500g\n",
    "* Type 2 costs $9, contains 750g\n",
    "* Type 3 costs $11, contains 1000kg\n",
    "\n",
    "The payoff of each group is the maximum quantity of ice-cream the members of the group can buy by pooling their money </br>\n",
    "The ice-cream can be shared arbitrarily within the group.\n",
    "\n",
    "### Possible coalitions and their payoffs\n",
    "No single person, with the money available, can buy any amount of ice-cream.</br>\n",
    "- $v(\\emptyset) = v(\\{ \\textrm{A} \\}) = v(\\{\\textrm{B}\\}) = v(\\{\\textrm{C}\\}) = 0$\n",
    "\n",
    "No coalition without Alice can buy any ice-cream\n",
    "- $v(\\{ \\textrm{A, B} \\}) = 750\\textrm{g}, v(\\{ \\textrm{A, C} \\}) = 750\\textrm{g}, v(\\{ \\textrm{B, C} \\}) = 0$\n",
    "- $v(\\{ \\textrm{A, B, C} \\}) = 1000\\textrm{g}$\n",
    "\n",
    "What we have just written here is the so called *characteristic function*."
   ]
  },
  {
   "attachments": {},
   "cell_type": "markdown",
   "metadata": {},
   "source": [
    "## Formalisation of coalitional games\n",
    "> **Definition (Coalitional Game):** </br>\n",
    ">A coalitional game (transferable utility) game is a pair $G = (N, v)$, where:\n",
    ">- $N =\\{1, ..., n\\}$ is the set of players\n",
    ">- $v$: $2^N \\longrightarrow \\mathbb{R}$ is the characteristic function\n",
    ">- for each subset of players $C$, $v(C)$ is the amount that the members of $C$ can earn by working together\n",
    "\n",
    "We usually assume that $v$ is\n",
    "- normalized: $v(Ø)$ = 0\n",
    "- non-negative: $v(C) \\ge 0, \\quad \\forall \\, C \\subseteq N$\n",
    "- monotone: $v(C) \\le v(D), \\quad \\forall \\; C, D \\quad \\mathrm{such\\;that} \\quad C \\subseteq D$\n",
    "\n",
    "A coalition is any subset of N; N itself is called the grand coalition"
   ]
  },
  {
   "attachments": {},
   "cell_type": "markdown",
   "metadata": {},
   "source": [
    "### Representing a characteristic function in Python\n",
    "To represent a characteristic function in Python, in a naive way, we can use a dictionary where we associate a value to each coalition.\n",
    "\n",
    "<!---\n",
    "(A) = 0 </br>\n",
    "%(B) = 0 </br>\n",
    "(C) = 0 </br>\n",
    "(A,B) = 750 </br>\n",
    "(A,C) = 750 </br>\n",
    "(B,C) = 0 </br>\n",
    "(A,B,C) = 1000 </br>\n",
    "-->"
   ]
  },
  {
   "cell_type": "code",
   "execution_count": 3,
   "metadata": {},
   "outputs": [],
   "source": [
    "# This is the characteristic function for the ice-cream game we have just described\n",
    "v = {\n",
    "    'A': 0,\n",
    "    'B': 0,\n",
    "    'C': 0,\n",
    "    'A,B': 750,\n",
    "    'A,C': 750,\n",
    "    'B,C': 0,\n",
    "    'A,B,C': 1000\n",
    "}"
   ]
  },
  {
   "cell_type": "code",
   "execution_count": 4,
   "metadata": {},
   "outputs": [
    {
     "data": {
      "text/plain": [
       "{'A': 0, 'B': 0, 'C': 0, 'A,B': 750, 'A,C': 750, 'B,C': 0, 'A,B,C': 1000}"
      ]
     },
     "execution_count": 4,
     "metadata": {},
     "output_type": "execute_result"
    }
   ],
   "source": [
    "v"
   ]
  },
  {
   "attachments": {},
   "cell_type": "markdown",
   "metadata": {},
   "source": [
    "Alternatively, we can also use frozen sets. Frozen sets are unchangeable sets, so they can be hashed. The convenient thing about frozen sets is that they offer us all the useful and fast functions offered by sets, such as checking that an element is a member of a set or checking if a set $S$ is the subset of another set $T$"
   ]
  },
  {
   "cell_type": "code",
   "execution_count": 5,
   "metadata": {},
   "outputs": [],
   "source": [
    "# This is the characteristic function for the ice-cream game we have just described, using frozen sets\n",
    "v = {\n",
    "    frozenset(['A']): 0,\n",
    "    frozenset(['B']): 0,\n",
    "    frozenset(['C']): 0,\n",
    "    frozenset(['A', 'B']): 750,\n",
    "    frozenset(['A', 'C']): 750,\n",
    "    frozenset(['B', 'C']): 0,\n",
    "    frozenset(['A', 'B', 'C']): 1000\n",
    "}"
   ]
  },
  {
   "cell_type": "code",
   "execution_count": 6,
   "metadata": {},
   "outputs": [
    {
     "data": {
      "text/plain": [
       "{frozenset({'A'}): 0,\n",
       " frozenset({'B'}): 0,\n",
       " frozenset({'C'}): 0,\n",
       " frozenset({'A', 'B'}): 750,\n",
       " frozenset({'A', 'C'}): 750,\n",
       " frozenset({'B', 'C'}): 0,\n",
       " frozenset({'A', 'B', 'C'}): 1000}"
      ]
     },
     "execution_count": 6,
     "metadata": {},
     "output_type": "execute_result"
    }
   ],
   "source": [
    "v"
   ]
  },
  {
   "attachments": {},
   "cell_type": "markdown",
   "metadata": {},
   "source": [
    "### Superadditive games\n",
    "> **Definition (Superadditive games):** </br>\n",
    "A characteristic function game $G(N,v)$ is said to be superadditive if it satisfies $v(C_1 \\cup C_2) \\ge v(C_1) + v(C_2)\\; \\forall C_1, C_2 \\subset N\\; \\text{such that}\\; C_1 \\cap C_2 = \\emptyset$.\n",
    "\n",
    "Let's implement a function that recognises if a game is superadditive or not. First, we need a function to generate all the possible coalitions of a set on $N$ players. That is, we need a function to generate the powerset of a set (or list) of elements. Then, following the definition, for each couple of coalitions $C_1$ and $C_2$ in this powerset, if the intersection between these coalitions is the empty set, we check that the condition $v(C_1 \\cup C_2) \\ge v(C_1) + v(C_2)$ holds. If it doesn't, the game is not superadditive."
   ]
  },
  {
   "attachments": {},
   "cell_type": "markdown",
   "metadata": {},
   "source": [
    "### Characteristic funtion represented with a dictionary of strings"
   ]
  },
  {
   "cell_type": "code",
   "execution_count": 7,
   "metadata": {},
   "outputs": [],
   "source": [
    "\n",
    "\n",
    "# A function to generate the powerset: it returns a list of 2^(n-1) lists\n",
    "def powerset(List):\n",
    "    subs = [list(j) for i in range(len(List)) for j in combinations(List, i+1)]\n",
    "    return subs\n",
    "\n",
    "def set_to_str(s:set):\n",
    "    output = \"\"\n",
    "    for el in s:\n",
    "        output+=f\"{el},\"\n",
    "    \n",
    "    output = output[:-1]\n",
    "    return output\n",
    " \n",
    "\n",
    "\n",
    "def is_superadditive(player_list, characteristic_function:dict):\n",
    "    # Your code here\n",
    "    coalitions = powerset(player_list)\n",
    "    \n",
    "    for c1 in coalitions:\n",
    "        setc1 = set(c1)\n",
    "        for c2 in coalitions:\n",
    "            setc2 = set(c2)\n",
    "            if setc1.isdisjoint(c2):\n",
    "                unione_set = set_to_str(setc2.union(setc1))[::-1]\n",
    "                chiavi = characteristic_function.keys()\n",
    "                stringasetc1 = set_to_str(setc1)\n",
    "                stringasetc2 = set_to_str(setc2)\n",
    "                if (unione_set in chiavi and stringasetc1 in chiavi and stringasetc2 in chiavi):\n",
    "                    #La caracteristic function dell'unoine deve essere maggiore della somma della delle carateristich function\n",
    "                    sum_union = characteristic_function[unione_set]\n",
    "                    sum_single = characteristic_function[set_to_str(setc1)] + characteristic_function[set_to_str(setc2)]\n",
    "                    if sum_union < sum_single:\n",
    "                        return False\n",
    "    \n",
    "    return True\n"
   ]
  },
  {
   "cell_type": "code",
   "execution_count": 8,
   "metadata": {},
   "outputs": [
    {
     "name": "stdout",
     "output_type": "stream",
     "text": [
      "Il powerset: [['A'], ['B'], ['C'], ['A', 'B'], ['A', 'C'], ['B', 'C'], ['A', 'B', 'C']]\n",
      "True\n"
     ]
    }
   ],
   "source": [
    "player_list = ['A', 'B', 'C']\n",
    "\n",
    "v = {\n",
    "    'A': 0,\n",
    "    'B': 0,\n",
    "    'C': 0,\n",
    "    'A,B': 750,\n",
    "    'A,C': 750,\n",
    "    'B,C': 0,\n",
    "    'A,B,C': 1000\n",
    "}\n",
    "\n",
    "print(f\"Il powerset: {powerset(player_list)}\")\n",
    "\n",
    "\n",
    "# This game is superadditive, so this should print True\n",
    "print(is_superadditive(player_list, v))"
   ]
  },
  {
   "cell_type": "code",
   "execution_count": 9,
   "metadata": {},
   "outputs": [
    {
     "name": "stdout",
     "output_type": "stream",
     "text": [
      "False\n"
     ]
    }
   ],
   "source": [
    "player_list = ['A', 'B', 'C']\n",
    "\n",
    "v = {\n",
    "    'A': 6,\n",
    "    'B': 12,\n",
    "    'C': 42,\n",
    "    'A,B': 12,\n",
    "    'A,C': 42,\n",
    "    'B,C': 42,\n",
    "    'A,B,C': 42\n",
    "}\n",
    "\n",
    "# This game is not superadditive, so this should print False\n",
    "print(is_superadditive(player_list, v))"
   ]
  },
  {
   "attachments": {},
   "cell_type": "markdown",
   "metadata": {},
   "source": [
    "### Characteristic funtion represented with a dictionary of frozen sets"
   ]
  },
  {
   "cell_type": "code",
   "execution_count": 10,
   "metadata": {},
   "outputs": [],
   "source": [
    "# A function to generate the powerset: it returns a list of 2^(n-1) frozen sets\n",
    "def powerset(List):\n",
    "    subs = [frozenset(j) for i in range(len(List)) for j in combinations(List, i + 1)]\n",
    "    return subs\n",
    "\n",
    "\n",
    "def is_superadditive(characteristic_function):\n",
    "    # Your code here\n",
    "    coalitions = powerset(player_list)\n",
    "\n",
    "    for c1 in coalitions:\n",
    "        setc1 = set(c1)\n",
    "        for c2 in coalitions:\n",
    "            setc2 = set(c2)\n",
    "            if setc1.isdisjoint(c2):\n",
    "                unione_set = set_to_str(setc2.union(setc1))[::-1]\n",
    "                chiavi = characteristic_function.keys()\n",
    "                stringasetc1 = set_to_str(setc1)\n",
    "                stringasetc2 = set_to_str(setc2)\n",
    "                if (\n",
    "                    unione_set in chiavi\n",
    "                    and stringasetc1 in chiavi\n",
    "                    and stringasetc2 in chiavi\n",
    "                ):\n",
    "                    # La caracteristic function dell'unoine deve essere maggiore della somma della delle carateristich function\n",
    "                    sum_union = characteristic_function[unione_set]\n",
    "                    sum_single = (\n",
    "                        characteristic_function[set_to_str(setc1)]\n",
    "                        + characteristic_function[set_to_str(setc2)]\n",
    "                    )\n",
    "                    if sum_union < sum_single:\n",
    "                        return False\n",
    "\n",
    "    return True"
   ]
  },
  {
   "cell_type": "code",
   "execution_count": 11,
   "metadata": {},
   "outputs": [
    {
     "name": "stdout",
     "output_type": "stream",
     "text": [
      "True\n"
     ]
    }
   ],
   "source": [
    "v = {\n",
    "    frozenset(['A']): 0,\n",
    "    frozenset(['B']): 0,\n",
    "    frozenset(['C']): 0,\n",
    "    frozenset(['A', 'B']): 750,\n",
    "    frozenset(['A', 'C']): 750,\n",
    "    frozenset(['B', 'C']): 0,\n",
    "    frozenset(['A', 'B', 'C']): 1000\n",
    "}\n",
    "\n",
    "\n",
    "# This game is superadditive, so this should return True\n",
    "print(is_superadditive(v))"
   ]
  },
  {
   "cell_type": "code",
   "execution_count": 12,
   "metadata": {},
   "outputs": [
    {
     "name": "stdout",
     "output_type": "stream",
     "text": [
      "True\n"
     ]
    }
   ],
   "source": [
    "v = {\n",
    "    frozenset(['A']): 6,\n",
    "    frozenset(['B']): 12,\n",
    "    frozenset(['C']): 42,\n",
    "    frozenset(['A', 'B']): 12,\n",
    "    frozenset(['A', 'C']): 42,\n",
    "    frozenset(['B', 'C']): 42,\n",
    "    frozenset(['A', 'B', 'C']): 42\n",
    "}\n",
    "\n",
    "# This game is not superadditive, so this should return False\n",
    "print(is_superadditive(v))"
   ]
  },
  {
   "attachments": {},
   "cell_type": "markdown",
   "metadata": {},
   "source": [
    "## Solution concepts: the core\n",
    ">**Definition (Core):** </br>\n",
    ">The core of a game is the set of all stable outcomes; that is, outcomes that no coalition wants to deviate from. </br>\n",
    ">More formally, the core is defined as follows:\n",
    ">\n",
    ">$$ \n",
    "    \\mathrm{core}(G) =  \\left\\{\\quad \\mathbf{x}  \\quad \\left| \\;\n",
    "        \\begin{align}\n",
    "            &x_i \\ge 0\\, \\forall i \\in N &\\text{(The payoff is positive for each player)} \\nonumber\\\\\n",
    "            &\\sum_{i \\in N} x_i = v(N) \\qquad &\\text{(Efficiency: all value is allocated)} \\nonumber\\\\\n",
    "            &\\sum_{i \\in C} x_i \\ge v(C)\\, \\forall C \\subseteq N \\qquad &\\text{(Stability: No coalition wants to deviate)} \\nonumber \\\\\n",
    "        \\end{align}\n",
    "    \\right\\}\\right.\n",
    ">$$\n",
    "\n",
    "Computing the core is a difficult task. Enumerating all the possible outcomes in the core is clearly unfeasible, even if we consider only integer payoffs. A possibility is to find the extreme points that define the region of the core, but that requires to solve a sequence of linear programs (LP). This is clearly beyond the goals of this course. Additionally, since the core has important limitations and it can also be empty for some games, such an effort would not be worth.</br>\n",
    "We will, instead, use the aforementioned definition of core to check whether an outcome is in the core. This will also help us to understand some limitations of stable outcomes."
   ]
  },
  {
   "attachments": {},
   "cell_type": "markdown",
   "metadata": {},
   "source": [
    "### Characteristic funtion represented with a dictionary of strings"
   ]
  },
  {
   "cell_type": "code",
   "execution_count": 62,
   "metadata": {},
   "outputs": [],
   "source": [
    "from itertools import combinations\n",
    "\n",
    "\n",
    "# A function to generate the powerset: it returns a list of 2^(n-1) lists\n",
    "def powerset(List):\n",
    "    subs = [list(j) for i in range(len(List)) for j in combinations(List, i + 1)]\n",
    "    return subs\n",
    "\n",
    "\n",
    "# This function checks if an outcome for a given game is stable\n",
    "def is_stable(outcome: dict, player_list: list, characteristic_function: dict):\n",
    "    # Your code here\n",
    "    coalitions = powerset(player_list)\n",
    "    # The outcome is stable if the sum of each element in the outcome is major or equal to the characteristic function of the coalition\n",
    "    for c in coalitions:\n",
    "        setc = set(c)\n",
    "        strset = set_to_str(setc)\n",
    "        chiavi = characteristic_function.keys()\n",
    "        print(f\"{strset} in {chiavi}\")\n",
    "        if strset in chiavi:\n",
    "            value = characteristic_function[strset]\n",
    "            sumoutcome = 0\n",
    "            for el in outcome:\n",
    "                if el in strset:\n",
    "                    sumoutcome += outcome[el]\n",
    "            print(f\"x({strset}) {sumoutcome} v({strset}){value}\")\n",
    "\n",
    "            if sumoutcome < value:\n",
    "                print(\"Errore in STABLE\")\n",
    "                return False\n",
    "\n",
    "    return True\n",
    "\n",
    "\n",
    "def is_positive(outcome: dict, player_list: list):\n",
    "    grandcoalition = max(powerset(player_list))\n",
    "    for el in grandcoalition:\n",
    "        if outcome[el] < 0:\n",
    "            print(\"Errore in Positive\")\n",
    "            return False\n",
    "    return True\n",
    "\n",
    "\n",
    "def sum_is_right(outcome: dict, player_list: list, characteristic_fun: dict):\n",
    "    \n",
    "    grandcoalition:str = list(characteristic_fun.keys())[-1]\n",
    "    \n",
    "\n",
    "    sumout = 0\n",
    "    print(grandcoalition)\n",
    "    for el in grandcoalition.split(','):\n",
    "        sumout += outcome[el]\n",
    "    if sumout != characteristic_fun[grandcoalition]:\n",
    "        print(\"Errore SUMISRIGHT\")\n",
    "        print(grandcoalition)\n",
    "        print(\n",
    "            f\"Somma Outcome: {sumout} e characteristic function {characteristic_fun[grandcoalition]} \"\n",
    "        )\n",
    "        return False\n",
    "    return True\n",
    "\n",
    "\n",
    "# This function applies the definition of core to check whether an outcome is in the core of a game\n",
    "def is_in_the_core(outcome, player_list, characteristic_function):\n",
    "    # Your code here\n",
    "    return (\n",
    "        is_stable(outcome, player_list, characteristic_function)\n",
    "        and is_positive(outcome, player_list)\n",
    "        and sum_is_right(outcome, player_list, characteristic_function)\n",
    "    )"
   ]
  },
  {
   "cell_type": "code",
   "execution_count": 63,
   "metadata": {},
   "outputs": [
    {
     "name": "stdout",
     "output_type": "stream",
     "text": [
      "A in dict_keys(['A', 'B', 'C', 'A,B', 'A,C', 'B,C', 'A,B,C'])\n",
      "x(A) 333.3334 v(A)0\n",
      "B in dict_keys(['A', 'B', 'C', 'A,B', 'A,C', 'B,C', 'A,B,C'])\n",
      "x(B) 333.3333 v(B)0\n",
      "C in dict_keys(['A', 'B', 'C', 'A,B', 'A,C', 'B,C', 'A,B,C'])\n",
      "x(C) 333.3333 v(C)0\n",
      "A,B in dict_keys(['A', 'B', 'C', 'A,B', 'A,C', 'B,C', 'A,B,C'])\n",
      "x(A,B) 666.6667 v(A,B)750\n",
      "Errore in STABLE\n",
      "False\n"
     ]
    }
   ],
   "source": [
    "# Now, to define our coalitional game we need a list of players and a characteristic function.\n",
    "player_list = ['A', 'B', 'C']\n",
    "\n",
    "v = {\n",
    "    'A': 0,\n",
    "    'B': 0,\n",
    "    'C': 0,\n",
    "    'A,B': 750,\n",
    "    'A,C': 750,\n",
    "    'B,C': 0,\n",
    "    'A,B,C': 1000\n",
    "}\n",
    "\n",
    "# Now, we need to define an outcome in order to test if it is in the core.\n",
    "# We start with an equal redistribution\n",
    "x = {\n",
    "    'A': 333.3334,\n",
    "    'B': 333.3333,\n",
    "    'C': 333.3333\n",
    "}\n",
    "\n",
    "# It should return False, since v({A,B}) > x(A) + x(B) \n",
    "print(is_in_the_core(x, player_list, v))"
   ]
  },
  {
   "cell_type": "code",
   "execution_count": 64,
   "metadata": {},
   "outputs": [
    {
     "name": "stdout",
     "output_type": "stream",
     "text": [
      "A in dict_keys(['A', 'B', 'C', 'A,B', 'A,C', 'B,C', 'A,B,C'])\n",
      "x(A) 500 v(A)0\n",
      "B in dict_keys(['A', 'B', 'C', 'A,B', 'A,C', 'B,C', 'A,B,C'])\n",
      "x(B) 250 v(B)0\n",
      "C in dict_keys(['A', 'B', 'C', 'A,B', 'A,C', 'B,C', 'A,B,C'])\n",
      "x(C) 250 v(C)0\n",
      "A,B in dict_keys(['A', 'B', 'C', 'A,B', 'A,C', 'B,C', 'A,B,C'])\n",
      "x(A,B) 750 v(A,B)750\n",
      "A,C in dict_keys(['A', 'B', 'C', 'A,B', 'A,C', 'B,C', 'A,B,C'])\n",
      "x(A,C) 750 v(A,C)750\n",
      "B,C in dict_keys(['A', 'B', 'C', 'A,B', 'A,C', 'B,C', 'A,B,C'])\n",
      "x(B,C) 500 v(B,C)0\n",
      "A,B,C in dict_keys(['A', 'B', 'C', 'A,B', 'A,C', 'B,C', 'A,B,C'])\n",
      "x(A,B,C) 1000 v(A,B,C)1000\n",
      "A,B,C\n",
      "True\n"
     ]
    }
   ],
   "source": [
    "# We try with another outcome: since A has more money than B and C, we give a higher payoff to A\n",
    "x = {\n",
    "    'A': 500,\n",
    "    'B': 250,\n",
    "    'C': 250\n",
    "}\n",
    "\n",
    "# It should return True, since v({B,C}) = 0 and x(B) + x(C) = 500\n",
    "print(is_in_the_core(x, player_list, v))"
   ]
  },
  {
   "cell_type": "code",
   "execution_count": 65,
   "metadata": {},
   "outputs": [
    {
     "name": "stdout",
     "output_type": "stream",
     "text": [
      "A in dict_keys(['A', 'B', 'C', 'A,B', 'A,C', 'B,C', 'A,B,C'])\n",
      "x(A) 1000 v(A)0\n",
      "B in dict_keys(['A', 'B', 'C', 'A,B', 'A,C', 'B,C', 'A,B,C'])\n",
      "x(B) 0 v(B)0\n",
      "C in dict_keys(['A', 'B', 'C', 'A,B', 'A,C', 'B,C', 'A,B,C'])\n",
      "x(C) 0 v(C)0\n",
      "A,B in dict_keys(['A', 'B', 'C', 'A,B', 'A,C', 'B,C', 'A,B,C'])\n",
      "x(A,B) 1000 v(A,B)750\n",
      "A,C in dict_keys(['A', 'B', 'C', 'A,B', 'A,C', 'B,C', 'A,B,C'])\n",
      "x(A,C) 1000 v(A,C)750\n",
      "B,C in dict_keys(['A', 'B', 'C', 'A,B', 'A,C', 'B,C', 'A,B,C'])\n",
      "x(B,C) 0 v(B,C)0\n",
      "A,B,C in dict_keys(['A', 'B', 'C', 'A,B', 'A,C', 'B,C', 'A,B,C'])\n",
      "x(A,B,C) 1000 v(A,B,C)1000\n",
      "A,B,C\n",
      "True\n"
     ]
    }
   ],
   "source": [
    "# We try with a very unfair outcome (B and C pay for A to take all!)\n",
    "x = {\n",
    "    'A': 1000,\n",
    "    'B': 0,\n",
    "    'C': 0\n",
    "}\n",
    "\n",
    "# It should return True, since v(B) = v(C) = v({B,C}) = 0 which is equal to x(B) + x(C)\n",
    "# This shows one limitation of the core. Such an unfair outcome is in the core!\n",
    "print(is_in_the_core(x, player_list, v))"
   ]
  },
  {
   "attachments": {},
   "cell_type": "markdown",
   "metadata": {},
   "source": [
    "### Characteristic funtion represented with a dictionary of frozen sets"
   ]
  },
  {
   "cell_type": "code",
   "execution_count": 17,
   "metadata": {},
   "outputs": [],
   "source": [
    "from itertools import combinations\n",
    "\n",
    "# A function to generate the powerset: it returns a list of 2^(n-1) frozen sets\n",
    "def powerset(List):\n",
    "    subs = [frozenset(j) for i in range(len(List)) for j in combinations(List, i+1)]\n",
    "    return subs\n",
    "\n",
    "# This function checks if an outcome for a given game is stable\n",
    "def is_stable(outcome, characteristic_function):\n",
    "    # Your code here\n",
    "    pass\n",
    "\n",
    "# This function applies the definition of core to check whether an outcome is in the core of a game\n",
    "def is_in_the_core(outcome, characteristic_function):\n",
    "    # Your code here\n",
    "    pass"
   ]
  },
  {
   "cell_type": "code",
   "execution_count": 18,
   "metadata": {},
   "outputs": [
    {
     "name": "stdout",
     "output_type": "stream",
     "text": [
      "None\n"
     ]
    }
   ],
   "source": [
    "# Now, to define our coalitional game we need a characteristic function.\n",
    "v = {\n",
    "    frozenset(['A']): 0,\n",
    "    frozenset(['B']): 0,\n",
    "    frozenset(['C']): 0,\n",
    "    frozenset(['A', 'B']): 750,\n",
    "    frozenset(['A', 'C']): 750,\n",
    "    frozenset(['B', 'C']): 0,\n",
    "    frozenset(['A', 'B', 'C']): 1000\n",
    "}\n",
    "\n",
    "# Now, we need to define an outcome in order to test if it is in the core.\n",
    "# We start with an equal redistribution\n",
    "x = {\n",
    "    'A': 333.3334,\n",
    "    'B': 333.3333,\n",
    "    'C': 333.3333\n",
    "}\n",
    "\n",
    "# It should return False, since v({A,B}) > x(A) + x(B) \n",
    "print(is_in_the_core(x, v))"
   ]
  },
  {
   "cell_type": "code",
   "execution_count": 19,
   "metadata": {},
   "outputs": [
    {
     "name": "stdout",
     "output_type": "stream",
     "text": [
      "None\n"
     ]
    }
   ],
   "source": [
    "# We try with another outcome: since A has more money than B and C, we give a higher payoff to A\n",
    "x = {\n",
    "    'A': 500,\n",
    "    'B': 250,\n",
    "    'C': 250\n",
    "}\n",
    "\n",
    "# It should return True, since v({B,C}) = 0 and x(B) + x(C) = 500\n",
    "print(is_in_the_core(x, v))"
   ]
  },
  {
   "cell_type": "code",
   "execution_count": 20,
   "metadata": {},
   "outputs": [
    {
     "name": "stdout",
     "output_type": "stream",
     "text": [
      "None\n"
     ]
    }
   ],
   "source": [
    "# We try with a very unfair outcome (B and C pay for A to take all!)\n",
    "x = {\n",
    "    'A': 1000,\n",
    "    'B': 0,\n",
    "    'C': 0\n",
    "}\n",
    "\n",
    "# It should return True, since v(B) = v(C) = v({B,C}) = 0 which is equal to x(B) + x(C)\n",
    "# This shows one limitation of the core. Such an unfair outcome is in the core!\n",
    "print(is_in_the_core(x, v))"
   ]
  },
  {
   "attachments": {},
   "cell_type": "markdown",
   "metadata": {},
   "source": [
    "## Solution concepts: the Shapley Value\n",
    ">**Definition (Shapley Value):** </br>\n",
    ">The Shapley value is a way to redistribute the payoff obtained by the coalition among its members. The idea behind the Shapley value is to redistribute the payoff proportionally to the contribution of each player to the coalition. A possible solution consists in assigning to each player the average of all their marginal contributions over the possible orderings of the players in the coallition. That is:\n",
    ">\n",
    ">$$\n",
    "\\phi(i, v) = \\frac{1}{|N|!} \\sum_{\\pi \\in \\Pi_N} v(\\mathrm{B}(\\pi, i) \\cup \\{i\\}) - v(\\mathrm{B}(\\pi, i))\n",
    ">$$\n",
    ">\n",
    ">Where: </br>\n",
    "$\\phi(i, v)$ is the Shapley value (i.e. the payoff) for the player $i$ </br>\n",
    "$v$ is the characteristic function </br>\n",
    "$\\Pi_N$ is the set of all possible orderings of the elements in $N$; that is, the set of all the possible permutations of $N$ </br>\n",
    "$\\mathrm{B}(\\pi, i)$ is the set of predecessors of $i$ in the permutation under consideration.\n",
    "\n",
    "There are other two, equivalent, equations to compute the Shapley value:\n",
    "\n",
    "$$\n",
    "\\phi(i, v) = \\sum_{S \\subseteq N} \\frac{(|N| - |S|)! \\times (|S| - 1)!}{|N|!} (v(S) - v(S \\setminus \\{i\\}))\n",
    "$$\n",
    "$$\n",
    "\\phi(i, v) = \\sum_{S \\subseteq N \\setminus \\{i\\}} \\frac{|S|! \\times (|N| - |S| - 1)!}{|N|!} (v(S \\cup \\{i\\}) - v(S))\n",
    "$$\n",
    "\n",
    "Note that in the last equation, the summation is over all the subsets $S \\subseteq N$ which do not contain the player $i$.\n",
    "\n",
    "The Shapley value satisfies the following properties:\n",
    "- Players receive, at least, the same payoff they would receive if they did not participate to the coalition: $\\phi(i, v) \\ge v(\\{i\\})\\; \\forall i \\in N$\n",
    "- The Shapley value is Pareto efficient: $\\sum_{i \\in N} \\phi(i, v) = v(N)$\n",
    "- Players with the same marginal contributions receive the same payoff: $v(S \\cup \\{i\\}) = v(S \\cup \\{j\\})\\; \\forall S \\in N \\setminus \\{i,j\\} \\Longrightarrow \\phi(i, v) = \\phi(j, v)$\n",
    "- Players with marginal contribution equal to zero (such players are known as *null players*) receive payoff equal to zero: $v(S) = v(S \\cup \\{i\\})\\; \\forall S \\in N \\setminus \\{i\\} \\Longrightarrow \\phi(i,v) = 0$ \n",
    "- The Shapley value is additive. Let $G_1 = (N, v)$ and $G_2 = (N, w)$ be two games defined on the same set of players: $\\phi(i, v + w) = \\phi(i, v) + \\phi(i, w)\\; \\forall i \\in N$\n",
    "\n",
    "It can be shown that the Shapley value is the only payoff distribution method which satisfies the aforementioned properties. \n",
    "\n",
    "The Shapley value, however, has one important limitation: it is not necessarily a stable solution. As such, it is not guaranteed that $\\sum_{i \\in C} \\phi(i, v) \\ge v(C)\\, \\forall C \\subseteq N$."
   ]
  },
  {
   "attachments": {},
   "cell_type": "markdown",
   "metadata": {},
   "source": [
    "### Computing the Shapley value for the Ice-cream game\n",
    "\n",
    "Let's compute the Shapley value for this characteristic function: </br>\n",
    "- $v(\\emptyset) = v(\\{ \\textrm{A} \\}) = v(\\{\\textrm{B}\\}) = v(\\{\\textrm{C}\\}) = 0$\n",
    "- $v(\\{ \\textrm{A, B} \\}) = 750\\textrm{g}, v(\\{ \\textrm{A, C} \\}) = 750\\textrm{g}, v(\\{ \\textrm{B, C} \\}) = 0$\n",
    "- $v(\\{ \\textrm{A, B, C} \\}) = 1000\\textrm{g}$\n",
    "\n",
    "We just need to compute the average marginal contribution of each player. Let's denote the marginal contribution of a player $i \\in N$, for a given permutation $\\pi \\subseteq \\Pi_N$ as $\\delta_i(\\pi)$\n",
    "\n",
    "<b>Computation for player A</b>\n",
    "\n",
    "$\n",
    "\\begin{aligned}\n",
    "&\\pi = \\text{(A, B, C):} \\qquad &\\delta_A(\\pi) &= v(\\{A\\}) - v(\\{\\emptyset\\}) &=& &0& \\\\\n",
    "&\\pi = \\text{(A, C, B):} &\\delta_A(\\pi) &= v(\\{A\\}) - v(\\{\\emptyset\\}) &=& &0& \\\\\n",
    "&\\pi = \\text{(B, A, C):} &\\delta_A(\\pi) &= v(\\{A, B\\}) - v(\\{B\\}) = 750 - 0 &=& &750& \\\\\n",
    "&\\pi = \\text{(B, C, A):} &\\delta_A(\\pi) &= v(\\{A, B, C\\}) - v(\\{B, C\\}) = 1000 - 0 &=& &1000& \\\\\n",
    "&\\pi = \\text{(C, A, B):} &\\delta_A(\\pi) &= v(\\{A, C\\}) - v(\\{C\\}) = 750 - 0 &=& &750& \\\\\n",
    "&\\pi = \\text{(C, B, A):} &\\delta_A(\\pi) &= v(\\{A, B, C\\}) - v(\\{B, C\\}) = 1000 - 0 &=& &1000&\n",
    "\\end{aligned}\n",
    "$\n",
    "\n",
    "$$\\phi(A, v) = (750 + 1000 + 750 + 1000)/6 = 3500/6 = 583.\\overline{33}$$\n",
    "\n",
    "<b>Computation for player B (and C)</b>\n",
    "\n",
    "$\n",
    "\\begin{aligned}\n",
    "&\\pi = \\text{(A, B, C):} \\qquad &\\delta_B(\\pi) &= v(\\{A, B\\}) - v(\\{A\\}) = 750 - 0 &=& &750& \\\\\n",
    "&\\pi = \\text{(A, C, B):} &\\delta_B(\\pi) &= v(\\{A, B, C\\}) - v(\\{A, C\\}) = 1000 - 750 &=& &250& \\\\\n",
    "&\\pi = \\text{(B, A, C):} &\\delta_B(\\pi) &= v(\\{B\\}) - v(\\{\\emptyset\\}) &=& &0& \\\\\n",
    "&\\pi = \\text{(B, C, A):} &\\delta_B(\\pi) &= v(\\{B\\}) - v(\\{\\emptyset\\}) &=& &0& \\\\\n",
    "&\\pi = \\text{(C, A, B):} &\\delta_B(\\pi) &= v(\\{A, B, C\\}) - v(\\{A, C\\}) = 1000 - 750 &=& &250& \\\\\n",
    "&\\pi = \\text{(C, B, A):} &\\delta_B(\\pi) &= v(\\{B, C\\}) - v(\\{C\\}) &=& &0&\n",
    "\\end{aligned}\n",
    "$\n",
    "\n",
    "$$\\phi(B, v) = \\phi(C, v) = (750 + 250 + 250)/6 = 1250/6 = 208.\\overline{33}$$\n",
    "\n",
    "As such, $\\phi = (583.\\overline{33}, 208.\\overline{33}, 208.\\overline{33})$"
   ]
  },
  {
   "attachments": {},
   "cell_type": "markdown",
   "metadata": {},
   "source": [
    "### Implementing the Shapley value in Python\n",
    "We will now implement the Shapley value computation. We could use any of the aforementioned formula, but the second formula is better for the exact Shapley value computation. In fact, for $n$ players we have a total of $n!$ permutations versus $2^n$ coalitions. As such, implementing the computation of the Shapley values with the second formula is faster than implementing it with the first formula, because the second formula leads to an algorithm with time complexity $\\mathcal{O}(2^n)$ while the first formula leads to an $\\mathcal{O}(n!)$ algorithm. We will start by generating the powerset of players (that is, all the possible coalitions) and we are going to compute the marginal contributions."
   ]
  },
  {
   "attachments": {},
   "cell_type": "markdown",
   "metadata": {},
   "source": [
    "### Characteristic funtion represented with a dictionary of strings"
   ]
  },
  {
   "cell_type": "code",
   "execution_count": 21,
   "metadata": {},
   "outputs": [],
   "source": [
    "from math import factorial\n",
    "\n",
    "# A function to generate the powerset: it returns a list of 2^(n-1) lists\n",
    "def powerset(List):\n",
    "    subs = [list(j) for i in range(len(List)) for j in combinations(List, i+1)]\n",
    "    return subs\n",
    "\n",
    "# We now implement the Shapley value for a given player, using the second equation\n",
    "def shapley_value(player, player_list, characteristic_function):\n",
    "    # Your code here\n",
    "    pass\n",
    "\n",
    "# This function returns a dictionary with the Shapley value for each player\n",
    "def shapley(player_list, characteristic_function):   \n",
    "    return {player: shapley_value(player, player_list, characteristic_function) for player in player_list}"
   ]
  },
  {
   "cell_type": "code",
   "execution_count": 22,
   "metadata": {},
   "outputs": [
    {
     "data": {
      "text/plain": [
       "{'A': None, 'B': None, 'C': None}"
      ]
     },
     "execution_count": 22,
     "metadata": {},
     "output_type": "execute_result"
    }
   ],
   "source": [
    "player_list = ['A', 'B', 'C']\n",
    "\n",
    "v = {\n",
    "    'A': 0,\n",
    "    'B': 0,\n",
    "    'C': 0,\n",
    "    'A,B': 750,\n",
    "    'A,C': 750,\n",
    "    'B,C': 0,\n",
    "    'A,B,C': 1000\n",
    "}\n",
    "\n",
    "# As we have seen before, it should be (583.33, 208.33, 208.33)\n",
    "shapley(player_list, v)"
   ]
  },
  {
   "attachments": {},
   "cell_type": "markdown",
   "metadata": {},
   "source": [
    "### Characteristic funtion represented with a dictionary of frozen sets\n",
    "\n",
    "$$\n",
    "\\phi(i, v) = \\sum_{S \\subseteq N \\setminus \\{i\\}} \\frac{|S|! \\times (|N| - |S| - 1)!}{|N|!} (v(S \\cup \\{i\\}) - v(S))\n",
    "$$"
   ]
  },
  {
   "cell_type": "code",
   "execution_count": 101,
   "metadata": {},
   "outputs": [],
   "source": [
    "from math import factorial\n",
    "\n",
    "\n",
    "# A function to generate the powerset: it returns a list of 2^(n-1) frozen sets\n",
    "def powerset(List):\n",
    "    subs = [frozenset(j) for i in range(len(List)) for j in combinations(List, i + 1)]\n",
    "    return subs\n",
    "\n",
    "\n",
    "# We now implement the Shapley value for a given player, using the second equation\n",
    "def shapley_value(player, characteristic_function):\n",
    "    # Your code here\n",
    "    grandset = max(characteristic_function)\n",
    "    # Stringa del super settone\n",
    "    setstr = \"\"\n",
    "    for l in grandset:\n",
    "        setstr += f\"{l},\"\n",
    "    setstr = setstr[:-1]\n",
    "\n",
    "    superset = []\n",
    "    # Rimuovo tutti i set che hanno il player\n",
    "    for s in powerset(player_list):\n",
    "        if not s.issuperset(player):\n",
    "            superset.append(s)\n",
    "\n",
    "    shapley = 0\n",
    "\n",
    "    print(f\"######### CASO GIOCATORE {player} #########\")\n",
    "\n",
    "    # Per ogni set\n",
    "    for s in superset:\n",
    "        shapley += (\n",
    "            (factorial(len(s)) * factorial(len(grandset) - len(s) - 1))\n",
    "            / factorial(len(grandset))\n",
    "        ) * (characteristic_function[s.union(player)] - characteristic_function[s])\n",
    "\n",
    "    print(f\"Shapley: {shapley}\")\n",
    "    return shapley\n",
    "\n",
    "\n",
    "# This function returns a dictionary with the Shapley value for each player\n",
    "def shapley(characteristic_function):\n",
    "    # To get the grand coalition from the characteristic function, we can use the function max\n",
    "    return {\n",
    "        player: shapley_value(player, characteristic_function)\n",
    "        for player in max(characteristic_function)\n",
    "    }"
   ]
  },
  {
   "cell_type": "code",
   "execution_count": 102,
   "metadata": {},
   "outputs": [
    {
     "name": "stdout",
     "output_type": "stream",
     "text": [
      "######### CASO GIOCATORE A #########\n",
      "Shapley: 583.3333333333333\n",
      "######### CASO GIOCATORE B #########\n",
      "Shapley: 208.33333333333331\n",
      "######### CASO GIOCATORE C #########\n",
      "Shapley: 208.33333333333331\n"
     ]
    },
    {
     "data": {
      "text/plain": [
       "{'A': 583.3333333333333, 'B': 208.33333333333331, 'C': 208.33333333333331}"
      ]
     },
     "execution_count": 102,
     "metadata": {},
     "output_type": "execute_result"
    }
   ],
   "source": [
    "v = {\n",
    "    frozenset(['A']): 0,\n",
    "    frozenset(['B']): 0,\n",
    "    frozenset(['C']): 0,\n",
    "    frozenset(['A', 'B']): 750,\n",
    "    frozenset(['A', 'C']): 750,\n",
    "    frozenset(['B', 'C']): 0,\n",
    "    frozenset(['A', 'B', 'C']): 1000\n",
    "}\n",
    "\n",
    "# As we have seen before, it should be (583.33, 208.33, 208.33)\n",
    "shapley(v)"
   ]
  },
  {
   "attachments": {},
   "cell_type": "markdown",
   "metadata": {},
   "source": [
    "## Computational issues of Coalitional Game Theory and naive representations of the characteristic function\n",
    "We face two computational problems in Coalitional Game Theory:\n",
    "1. The naive representation of the characteristic function is exponential in the number of players n: We need to list all the $2^n$ coalitions;\n",
    "2. Computationally expensive algorithms: Checking the stability of an outcome or computing the Shapley value require to go over $2^n$ coalitions.\n",
    "\n",
    "In general, we have the following strategies to tackle these two problems:\n",
    "1. Focusing on *restricted classes* of games; for instance, games on combinatorial structures such as routing games. The problem here is that we give up on representing other interesting games.\n",
    "2. Developing approximated algorithms to solve games; for instance, we can approximate the computation of the Shapley value. We give up on the exact solution but we reduce the computational time.\n",
    "3. Using compact representations for games; instead of representing the characteristic function in a naive way, we can use networked structures to obtain compact but expressive representations.\n",
    "\n",
    "We will see some of these strategies in the next lesson!"
   ]
  },
  {
   "cell_type": "code",
   "execution_count": null,
   "metadata": {},
   "outputs": [],
   "source": []
  }
 ],
 "metadata": {
  "kernelspec": {
   "display_name": "tf",
   "language": "python",
   "name": "python3"
  },
  "language_info": {
   "codemirror_mode": {
    "name": "ipython",
    "version": 3
   },
   "file_extension": ".py",
   "mimetype": "text/x-python",
   "name": "python",
   "nbconvert_exporter": "python",
   "pygments_lexer": "ipython3",
   "version": "3.9.8"
  },
  "orig_nbformat": 4
 },
 "nbformat": 4,
 "nbformat_minor": 2
}
