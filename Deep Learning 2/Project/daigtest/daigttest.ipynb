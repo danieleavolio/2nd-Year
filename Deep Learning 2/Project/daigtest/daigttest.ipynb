{
 "cells": [
  {
   "cell_type": "markdown",
   "metadata": {},
   "source": [
    "# DAIGT Notebook"
   ]
  },
  {
   "cell_type": "markdown",
   "metadata": {},
   "source": [
    "In this notebook we will try to predict if a `Text`  is made by a `LLM` or a `Human`. The dataset is composed by ~46k Rows \n",
    "containing `Text` and `Label` columns. The `Label` column is the target variable and it is a binary variable.\n",
    "\n",
    "Let's see the data"
   ]
  },
  {
   "cell_type": "code",
   "execution_count": 31,
   "metadata": {},
   "outputs": [],
   "source": [
    "# We are in kaggle\n",
    "import os\n",
    "import sys\n",
    "\n",
    "# Read all files in the directory\n",
    "for dirname, _, filenames in os.walk('/kaggle/input'):\n",
    "    for filename in filenames:\n",
    "        print(os.path.join(dirname, filename))\n",
    "\n",
    "\n"
   ]
  },
  {
   "cell_type": "code",
   "execution_count": 21,
   "metadata": {},
   "outputs": [],
   "source": [
    "# Load the data from the folder\n",
    "\n",
    "import os\n",
    "import numpy as np\n",
    "import pandas as pd\n",
    "# Load the csv\n",
    "dataset = pd.read_csv('data/train_v2_drcat_02.csv', sep=',', header=0)\n",
    "\n"
   ]
  },
  {
   "cell_type": "code",
   "execution_count": 22,
   "metadata": {},
   "outputs": [
    {
     "name": "stdout",
     "output_type": "stream",
     "text": [
      "(44868, 5)\n",
      "                                                 text  label  \\\n",
      "0   Phones\\n\\nModern humans today are always on th...      0   \n",
      "1   This essay will explain if drivers should or s...      0   \n",
      "2   Driving while the use of cellular devices\\n\\nT...      0   \n",
      "3   Phones & Driving\\n\\nDrivers should not be able...      0   \n",
      "4   Cell Phone Operation While Driving\\n\\nThe abil...      0   \n",
      "5   Cell phone use should not be legal while drivi...      0   \n",
      "6   Phones and Driving\\n\\nDriving is a good way to...      0   \n",
      "7   PHONES AND DRIVING\\n\\nIn this world in which w...      0   \n",
      "8   People are debating whether if drivers should ...      0   \n",
      "9   Texting and driving\\n\\nOver half of drivers in...      0   \n",
      "10  explain if drivers should or should not be abl...      0   \n",
      "11  Should drivers be able to be on their phone wh...      0   \n",
      "12  Everyone knows that texting and driving is a t...      0   \n",
      "13  Operating a motor vehicle while on your cell p...      0   \n",
      "14  Phones & Driving Essay\\n\\nI believe that drive...      0   \n",
      "15  Although cell phones have been around for quit...      0   \n",
      "16  Have you ever seen an ambulance or two with a ...      0   \n",
      "17  Phones & Driving\\n\\nCell phones have become ve...      0   \n",
      "18  Simply because someone feels like they must re...      0   \n",
      "19  Should Drivers Be Allowed To Use Cell Phones W...      0   \n",
      "\n",
      "           prompt_name           source  RDizzl3_seven  \n",
      "0   Phones and driving  persuade_corpus          False  \n",
      "1   Phones and driving  persuade_corpus          False  \n",
      "2   Phones and driving  persuade_corpus          False  \n",
      "3   Phones and driving  persuade_corpus          False  \n",
      "4   Phones and driving  persuade_corpus          False  \n",
      "5   Phones and driving  persuade_corpus          False  \n",
      "6   Phones and driving  persuade_corpus          False  \n",
      "7   Phones and driving  persuade_corpus          False  \n",
      "8   Phones and driving  persuade_corpus          False  \n",
      "9   Phones and driving  persuade_corpus          False  \n",
      "10  Phones and driving  persuade_corpus          False  \n",
      "11  Phones and driving  persuade_corpus          False  \n",
      "12  Phones and driving  persuade_corpus          False  \n",
      "13  Phones and driving  persuade_corpus          False  \n",
      "14  Phones and driving  persuade_corpus          False  \n",
      "15  Phones and driving  persuade_corpus          False  \n",
      "16  Phones and driving  persuade_corpus          False  \n",
      "17  Phones and driving  persuade_corpus          False  \n",
      "18  Phones and driving  persuade_corpus          False  \n",
      "19  Phones and driving  persuade_corpus          False  \n"
     ]
    }
   ],
   "source": [
    "# Shape\n",
    "print(dataset.shape)\n",
    "\n",
    "# Head\n",
    "print(dataset.head(20))"
   ]
  },
  {
   "cell_type": "code",
   "execution_count": 23,
   "metadata": {},
   "outputs": [],
   "source": [
    "# Replace \\n with space\n",
    "dataset['text'] = dataset['text'].str.replace('\\n', ' ')\n",
    "\n",
    "# Replace \\r with space\n",
    "dataset['text'] = dataset['text'].str.replace('\\r', ' ')\n",
    "\n",
    "# Replace \\t with space\n",
    "dataset['text'] = dataset['text'].str.replace('\\t', ' ')"
   ]
  },
  {
   "cell_type": "code",
   "execution_count": 24,
   "metadata": {},
   "outputs": [
    {
     "name": "stdout",
     "output_type": "stream",
     "text": [
      "                                                 text  label  \\\n",
      "0   Phones  Modern humans today are always on thei...      0   \n",
      "1   This essay will explain if drivers should or s...      0   \n",
      "2   Driving while the use of cellular devices  Tod...      0   \n",
      "3   Phones & Driving  Drivers should not be able t...      0   \n",
      "4   Cell Phone Operation While Driving  The abilit...      0   \n",
      "5   Cell phone use should not be legal while drivi...      0   \n",
      "6   Phones and Driving  Driving is a good way to g...      0   \n",
      "7   PHONES AND DRIVING  In this world in which we ...      0   \n",
      "8   People are debating whether if drivers should ...      0   \n",
      "9   Texting and driving  Over half of drivers in t...      0   \n",
      "10  explain if drivers should or should not be abl...      0   \n",
      "11  Should drivers be able to be on their phone wh...      0   \n",
      "12  Everyone knows that texting and driving is a t...      0   \n",
      "13  Operating a motor vehicle while on your cell p...      0   \n",
      "14  Phones & Driving Essay  I believe that drivers...      0   \n",
      "15  Although cell phones have been around for quit...      0   \n",
      "16  Have you ever seen an ambulance or two with a ...      0   \n",
      "17  Phones & Driving  Cell phones have become very...      0   \n",
      "18  Simply because someone feels like they must re...      0   \n",
      "19  Should Drivers Be Allowed To Use Cell Phones W...      0   \n",
      "\n",
      "           prompt_name           source  RDizzl3_seven  \n",
      "0   Phones and driving  persuade_corpus          False  \n",
      "1   Phones and driving  persuade_corpus          False  \n",
      "2   Phones and driving  persuade_corpus          False  \n",
      "3   Phones and driving  persuade_corpus          False  \n",
      "4   Phones and driving  persuade_corpus          False  \n",
      "5   Phones and driving  persuade_corpus          False  \n",
      "6   Phones and driving  persuade_corpus          False  \n",
      "7   Phones and driving  persuade_corpus          False  \n",
      "8   Phones and driving  persuade_corpus          False  \n",
      "9   Phones and driving  persuade_corpus          False  \n",
      "10  Phones and driving  persuade_corpus          False  \n",
      "11  Phones and driving  persuade_corpus          False  \n",
      "12  Phones and driving  persuade_corpus          False  \n",
      "13  Phones and driving  persuade_corpus          False  \n",
      "14  Phones and driving  persuade_corpus          False  \n",
      "15  Phones and driving  persuade_corpus          False  \n",
      "16  Phones and driving  persuade_corpus          False  \n",
      "17  Phones and driving  persuade_corpus          False  \n",
      "18  Phones and driving  persuade_corpus          False  \n",
      "19  Phones and driving  persuade_corpus          False  \n"
     ]
    }
   ],
   "source": [
    "# Print the head\n",
    "print(dataset.head(20))"
   ]
  },
  {
   "cell_type": "code",
   "execution_count": 25,
   "metadata": {},
   "outputs": [
    {
     "name": "stdout",
     "output_type": "stream",
     "text": [
      "                                                 text  label  \\\n",
      "0   Phones  Modern humans today are always on thei...      0   \n",
      "1   This essay will explain if drivers should or s...      0   \n",
      "2   Driving while the use of cellular devices  Tod...      0   \n",
      "3   Phones & Driving  Drivers should not be able t...      0   \n",
      "4   Cell Phone Operation While Driving  The abilit...      0   \n",
      "5   Cell phone use should not be legal while drivi...      0   \n",
      "6   Phones and Driving  Driving is a good way to g...      0   \n",
      "7   PHONES AND DRIVING  In this world in which we ...      0   \n",
      "8   People are debating whether if drivers should ...      0   \n",
      "9   Texting and driving  Over half of drivers in t...      0   \n",
      "10  explain if drivers should or should not be abl...      0   \n",
      "11  Should drivers be able to be on their phone wh...      0   \n",
      "12  Everyone knows that texting and driving is a t...      0   \n",
      "13  Operating a motor vehicle while on your cell p...      0   \n",
      "14  Phones & Driving Essay  I believe that drivers...      0   \n",
      "15  Although cell phones have been around for quit...      0   \n",
      "16  Have you ever seen an ambulance or two with a ...      0   \n",
      "17  Phones & Driving  Cell phones have become very...      0   \n",
      "18  Simply because someone feels like they must re...      0   \n",
      "19  Should Drivers Be Allowed To Use Cell Phones W...      0   \n",
      "\n",
      "           prompt_name  \n",
      "0   Phones and driving  \n",
      "1   Phones and driving  \n",
      "2   Phones and driving  \n",
      "3   Phones and driving  \n",
      "4   Phones and driving  \n",
      "5   Phones and driving  \n",
      "6   Phones and driving  \n",
      "7   Phones and driving  \n",
      "8   Phones and driving  \n",
      "9   Phones and driving  \n",
      "10  Phones and driving  \n",
      "11  Phones and driving  \n",
      "12  Phones and driving  \n",
      "13  Phones and driving  \n",
      "14  Phones and driving  \n",
      "15  Phones and driving  \n",
      "16  Phones and driving  \n",
      "17  Phones and driving  \n",
      "18  Phones and driving  \n",
      "19  Phones and driving  \n"
     ]
    }
   ],
   "source": [
    "# Remove source and rdizzl3_seven\n",
    "dataset = dataset.drop(['source', 'RDizzl3_seven'], axis=1)\n",
    "\n",
    "# Print the head\n",
    "print(dataset.head(20))"
   ]
  },
  {
   "cell_type": "code",
   "execution_count": 26,
   "metadata": {},
   "outputs": [],
   "source": [
    "# Split the dataset into train and test\n",
    "from sklearn.model_selection import train_test_split\n",
    "X_train, X_test, y_train, y_test = train_test_split(dataset['text'], dataset['label'], random_state=0)\n"
   ]
  },
  {
   "cell_type": "code",
   "execution_count": 27,
   "metadata": {},
   "outputs": [
    {
     "name": "stdout",
     "output_type": "stream",
     "text": [
      "(33651,)\n",
      "(11217,)\n",
      "(33651,)\n",
      "(11217,)\n"
     ]
    }
   ],
   "source": [
    "# Print the shape\n",
    "print(X_train.shape)\n",
    "print(X_test.shape)\n",
    "print(y_train.shape)\n",
    "print(y_test.shape)\n",
    "\n"
   ]
  },
  {
   "cell_type": "code",
   "execution_count": 28,
   "metadata": {},
   "outputs": [
    {
     "name": "stdout",
     "output_type": "stream",
     "text": [
      "23438    Distance learning school does not offer many p...\n",
      "11452    I think the use of technology to read emotions...\n",
      "42633    The United States of America has come a long w...\n",
      "26408    I believe that community service should be opt...\n",
      "4127     Should student projects be designed by teacher...\n",
      "37741    Hey, I'm just a regular 8th grader, so bear wi...\n",
      "25614    Making Decisions  When making a decision or as...\n",
      "32430    Limiting car usage has several notable benefit...\n",
      "42225    In a society where things are always changing ...\n",
      "16930    Although there are many negative aspects of dr...\n",
      "26560    Hey, ya'll! Today, I'm gonna talk about how ha...\n",
      "41907    Title: The Benefits of Limiting Car Usage  It’...\n",
      "24047    Many students rather take online classes so th...\n",
      "26468    Hey, I'm super excited to be writing this essa...\n",
      "32207    The impact of having a positive attitude on ac...\n",
      "41892     Dear State Senator,  Presently, the United St...\n",
      "14614    Dear principle.  I Think community service is ...\n",
      "26629    As an 8th grader, I think it would be pretty c...\n",
      "24305    Learning from home thought the power of the in...\n",
      "7388     Activities for Everyone!  Now everybody will h...\n",
      "Name: text, dtype: object\n",
      "23438    0\n",
      "11452    0\n",
      "42633    0\n",
      "26408    1\n",
      "4127     0\n",
      "37741    1\n",
      "25614    0\n",
      "32430    1\n",
      "42225    0\n",
      "16930    0\n",
      "26560    1\n",
      "41907    1\n",
      "24047    0\n",
      "26468    1\n",
      "32207    1\n",
      "41892    1\n",
      "14614    0\n",
      "26629    1\n",
      "24305    0\n",
      "7388     0\n",
      "Name: label, dtype: int64\n"
     ]
    }
   ],
   "source": [
    "# Print the head\n",
    "print(X_train.head(20))\n",
    "\n",
    "# Print the head\n",
    "print(y_train.head(20))"
   ]
  },
  {
   "cell_type": "code",
   "execution_count": 29,
   "metadata": {},
   "outputs": [],
   "source": [
    "# Import libraries\n",
    "import tensorflow as tf\n",
    "import tensorflow_hub as hub\n",
    "\n",
    "# if not installed tensorflow_text\n",
    "# %pip install tensorflow_text\n",
    "\n",
    "# Import tensorflow_text\n",
    "import tensorflow_text as text"
   ]
  },
  {
   "cell_type": "code",
   "execution_count": 30,
   "metadata": {},
   "outputs": [
    {
     "name": "stdout",
     "output_type": "stream",
     "text": [
      "Model: \"model\"\n",
      "__________________________________________________________________________________________________\n",
      " Layer (type)                   Output Shape         Param #     Connected to                     \n",
      "==================================================================================================\n",
      " text (InputLayer)              [(None,)]            0           []                               \n",
      "                                                                                                  \n",
      " keras_layer (KerasLayer)       {'input_mask': (Non  0           ['text[0][0]']                   \n",
      "                                e, 128),                                                          \n",
      "                                 'input_type_ids':                                                \n",
      "                                (None, 128),                                                      \n",
      "                                 'input_word_ids':                                                \n",
      "                                (None, 128)}                                                      \n",
      "                                                                                                  \n",
      " keras_layer_1 (KerasLayer)     {'default': (None,   109482241   ['keras_layer[0][0]',            \n",
      "                                768),                             'keras_layer[0][1]',            \n",
      "                                 'sequence_output':               'keras_layer[0][2]']            \n",
      "                                 (None, 128, 768),                                                \n",
      "                                 'encoder_outputs':                                               \n",
      "                                 [(None, 128, 768),                                               \n",
      "                                 (None, 128, 768),                                                \n",
      "                                 (None, 128, 768),                                                \n",
      "                                 (None, 128, 768),                                                \n",
      "                                 (None, 128, 768),                                                \n",
      "                                 (None, 128, 768),                                                \n",
      "                                 (None, 128, 768),                                                \n",
      "                                 (None, 128, 768),                                                \n",
      "                                 (None, 128, 768),                                                \n",
      "                                 (None, 128, 768),                                                \n",
      "                                 (None, 128, 768),                                                \n",
      "                                 (None, 128, 768)],                                               \n",
      "                                 'pooled_output': (                                               \n",
      "                                None, 768)}                                                       \n",
      "                                                                                                  \n",
      " dropout (Dropout)              (None, 768)          0           ['keras_layer_1[0][13]']         \n",
      "                                                                                                  \n",
      " classifier (Dense)             (None, 1)            769         ['dropout[0][0]']                \n",
      "                                                                                                  \n",
      "==================================================================================================\n",
      "Total params: 109,483,010\n",
      "Trainable params: 109,483,009\n",
      "Non-trainable params: 1\n",
      "__________________________________________________________________________________________________\n",
      "None\n",
      "Epoch 1/2\n"
     ]
    },
    {
     "ename": "ResourceExhaustedError",
     "evalue": "Graph execution error:\n\nDetected at node 'gradients/transformer/layer_4/activation/Gelu/Pow_grad/Pow' defined at (most recent call last):\n    File \"c:\\Users\\danie\\AppData\\Local\\Programs\\Python\\Python39\\lib\\runpy.py\", line 197, in _run_module_as_main\n      return _run_code(code, main_globals, None,\n    File \"c:\\Users\\danie\\AppData\\Local\\Programs\\Python\\Python39\\lib\\runpy.py\", line 87, in _run_code\n      exec(code, run_globals)\n    File \"C:\\Users\\danie\\AppData\\Roaming\\Python\\Python39\\site-packages\\ipykernel_launcher.py\", line 17, in <module>\n      app.launch_new_instance()\n    File \"c:\\Users\\danie\\AppData\\Local\\Programs\\Python\\Python39\\lib\\site-packages\\traitlets\\config\\application.py\", line 1046, in launch_instance\n      app.start()\n    File \"C:\\Users\\danie\\AppData\\Roaming\\Python\\Python39\\site-packages\\ipykernel\\kernelapp.py\", line 736, in start\n      self.io_loop.start()\n    File \"c:\\Users\\danie\\AppData\\Local\\Programs\\Python\\Python39\\lib\\site-packages\\tornado\\platform\\asyncio.py\", line 195, in start\n      self.asyncio_loop.run_forever()\n    File \"c:\\Users\\danie\\AppData\\Local\\Programs\\Python\\Python39\\lib\\asyncio\\base_events.py\", line 596, in run_forever\n      self._run_once()\n    File \"c:\\Users\\danie\\AppData\\Local\\Programs\\Python\\Python39\\lib\\asyncio\\base_events.py\", line 1890, in _run_once\n      handle._run()\n    File \"c:\\Users\\danie\\AppData\\Local\\Programs\\Python\\Python39\\lib\\asyncio\\events.py\", line 80, in _run\n      self._context.run(self._callback, *self._args)\n    File \"C:\\Users\\danie\\AppData\\Roaming\\Python\\Python39\\site-packages\\ipykernel\\kernelbase.py\", line 516, in dispatch_queue\n      await self.process_one()\n    File \"C:\\Users\\danie\\AppData\\Roaming\\Python\\Python39\\site-packages\\ipykernel\\kernelbase.py\", line 505, in process_one\n      await dispatch(*args)\n    File \"C:\\Users\\danie\\AppData\\Roaming\\Python\\Python39\\site-packages\\ipykernel\\kernelbase.py\", line 412, in dispatch_shell\n      await result\n    File \"C:\\Users\\danie\\AppData\\Roaming\\Python\\Python39\\site-packages\\ipykernel\\kernelbase.py\", line 740, in execute_request\n      reply_content = await reply_content\n    File \"C:\\Users\\danie\\AppData\\Roaming\\Python\\Python39\\site-packages\\ipykernel\\ipkernel.py\", line 422, in do_execute\n      res = shell.run_cell(\n    File \"C:\\Users\\danie\\AppData\\Roaming\\Python\\Python39\\site-packages\\ipykernel\\zmqshell.py\", line 546, in run_cell\n      return super().run_cell(*args, **kwargs)\n    File \"c:\\Users\\danie\\AppData\\Local\\Programs\\Python\\Python39\\lib\\site-packages\\IPython\\core\\interactiveshell.py\", line 3024, in run_cell\n      result = self._run_cell(\n    File \"c:\\Users\\danie\\AppData\\Local\\Programs\\Python\\Python39\\lib\\site-packages\\IPython\\core\\interactiveshell.py\", line 3079, in _run_cell\n      result = runner(coro)\n    File \"c:\\Users\\danie\\AppData\\Local\\Programs\\Python\\Python39\\lib\\site-packages\\IPython\\core\\async_helpers.py\", line 129, in _pseudo_sync_runner\n      coro.send(None)\n    File \"c:\\Users\\danie\\AppData\\Local\\Programs\\Python\\Python39\\lib\\site-packages\\IPython\\core\\interactiveshell.py\", line 3284, in run_cell_async\n      has_raised = await self.run_ast_nodes(code_ast.body, cell_name,\n    File \"c:\\Users\\danie\\AppData\\Local\\Programs\\Python\\Python39\\lib\\site-packages\\IPython\\core\\interactiveshell.py\", line 3466, in run_ast_nodes\n      if await self.run_code(code, result, async_=asy):\n    File \"c:\\Users\\danie\\AppData\\Local\\Programs\\Python\\Python39\\lib\\site-packages\\IPython\\core\\interactiveshell.py\", line 3526, in run_code\n      exec(code_obj, self.user_global_ns, self.user_ns)\n    File \"C:\\Users\\danie\\AppData\\Local\\Temp\\ipykernel_28196\\60729901.py\", line 36, in <module>\n      history = model.fit(x=X_train,\n    File \"c:\\Users\\danie\\AppData\\Local\\Programs\\Python\\Python39\\lib\\site-packages\\keras\\utils\\traceback_utils.py\", line 65, in error_handler\n      return fn(*args, **kwargs)\n    File \"c:\\Users\\danie\\AppData\\Local\\Programs\\Python\\Python39\\lib\\site-packages\\keras\\engine\\training.py\", line 1564, in fit\n      tmp_logs = self.train_function(iterator)\n    File \"c:\\Users\\danie\\AppData\\Local\\Programs\\Python\\Python39\\lib\\site-packages\\keras\\engine\\training.py\", line 1160, in train_function\n      return step_function(self, iterator)\n    File \"c:\\Users\\danie\\AppData\\Local\\Programs\\Python\\Python39\\lib\\site-packages\\keras\\engine\\training.py\", line 1146, in step_function\n      outputs = model.distribute_strategy.run(run_step, args=(data,))\n    File \"c:\\Users\\danie\\AppData\\Local\\Programs\\Python\\Python39\\lib\\site-packages\\keras\\engine\\training.py\", line 1135, in run_step\n      outputs = model.train_step(data)\n    File \"c:\\Users\\danie\\AppData\\Local\\Programs\\Python\\Python39\\lib\\site-packages\\keras\\engine\\training.py\", line 997, in train_step\n      self.optimizer.minimize(loss, self.trainable_variables, tape=tape)\n    File \"c:\\Users\\danie\\AppData\\Local\\Programs\\Python\\Python39\\lib\\site-packages\\keras\\optimizers\\optimizer_v2\\optimizer_v2.py\", line 576, in minimize\n      grads_and_vars = self._compute_gradients(\n    File \"c:\\Users\\danie\\AppData\\Local\\Programs\\Python\\Python39\\lib\\site-packages\\keras\\optimizers\\optimizer_v2\\optimizer_v2.py\", line 634, in _compute_gradients\n      grads_and_vars = self._get_gradients(\n    File \"c:\\Users\\danie\\AppData\\Local\\Programs\\Python\\Python39\\lib\\site-packages\\keras\\optimizers\\optimizer_v2\\optimizer_v2.py\", line 510, in _get_gradients\n      grads = tape.gradient(loss, var_list, grad_loss)\nNode: 'gradients/transformer/layer_4/activation/Gelu/Pow_grad/Pow'\nfailed to allocate memory\n\t [[{{node gradients/transformer/layer_4/activation/Gelu/Pow_grad/Pow}}]]\nHint: If you want to see a list of allocated tensors when OOM happens, add report_tensor_allocations_upon_oom to RunOptions for current allocation info. This isn't available when running in Eager mode.\n [Op:__inference_train_function_75041]",
     "output_type": "error",
     "traceback": [
      "\u001b[1;31m---------------------------------------------------------------------------\u001b[0m",
      "\u001b[1;31mResourceExhaustedError\u001b[0m                    Traceback (most recent call last)",
      "\u001b[1;32md:\\Lovaion\\University\\2nd Year\\Deep Learning\\Project\\daigtest\\daigttest.ipynb Cell 12\u001b[0m line \u001b[0;36m3\n\u001b[0;32m     <a href='vscode-notebook-cell:/d%3A/Lovaion/University/2nd%20Year/Deep%20Learning/Project/daigtest/daigttest.ipynb#X20sZmlsZQ%3D%3D?line=30'>31</a>\u001b[0m model\u001b[39m.\u001b[39mcompile(optimizer\u001b[39m=\u001b[39mtf\u001b[39m.\u001b[39mkeras\u001b[39m.\u001b[39moptimizers\u001b[39m.\u001b[39mAdam(learning_rate\u001b[39m=\u001b[39m\u001b[39m1e-5\u001b[39m),\n\u001b[0;32m     <a href='vscode-notebook-cell:/d%3A/Lovaion/University/2nd%20Year/Deep%20Learning/Project/daigtest/daigttest.ipynb#X20sZmlsZQ%3D%3D?line=31'>32</a>\u001b[0m               loss\u001b[39m=\u001b[39mtf\u001b[39m.\u001b[39mkeras\u001b[39m.\u001b[39mlosses\u001b[39m.\u001b[39mBinaryCrossentropy(),\n\u001b[0;32m     <a href='vscode-notebook-cell:/d%3A/Lovaion/University/2nd%20Year/Deep%20Learning/Project/daigtest/daigttest.ipynb#X20sZmlsZQ%3D%3D?line=32'>33</a>\u001b[0m               metrics\u001b[39m=\u001b[39m[tf\u001b[39m.\u001b[39mkeras\u001b[39m.\u001b[39mmetrics\u001b[39m.\u001b[39mBinaryAccuracy()])\n\u001b[0;32m     <a href='vscode-notebook-cell:/d%3A/Lovaion/University/2nd%20Year/Deep%20Learning/Project/daigtest/daigttest.ipynb#X20sZmlsZQ%3D%3D?line=34'>35</a>\u001b[0m \u001b[39m# Train the model\u001b[39;00m\n\u001b[1;32m---> <a href='vscode-notebook-cell:/d%3A/Lovaion/University/2nd%20Year/Deep%20Learning/Project/daigtest/daigttest.ipynb#X20sZmlsZQ%3D%3D?line=35'>36</a>\u001b[0m history \u001b[39m=\u001b[39m model\u001b[39m.\u001b[39;49mfit(x\u001b[39m=\u001b[39;49mX_train,\n\u001b[0;32m     <a href='vscode-notebook-cell:/d%3A/Lovaion/University/2nd%20Year/Deep%20Learning/Project/daigtest/daigttest.ipynb#X20sZmlsZQ%3D%3D?line=36'>37</a>\u001b[0m                     y\u001b[39m=\u001b[39;49my_train,\n\u001b[0;32m     <a href='vscode-notebook-cell:/d%3A/Lovaion/University/2nd%20Year/Deep%20Learning/Project/daigtest/daigttest.ipynb#X20sZmlsZQ%3D%3D?line=37'>38</a>\u001b[0m                     validation_data\u001b[39m=\u001b[39;49m(X_test, y_test),\n\u001b[0;32m     <a href='vscode-notebook-cell:/d%3A/Lovaion/University/2nd%20Year/Deep%20Learning/Project/daigtest/daigttest.ipynb#X20sZmlsZQ%3D%3D?line=38'>39</a>\u001b[0m                     batch_size\u001b[39m=\u001b[39;49m\u001b[39m32\u001b[39;49m,\n\u001b[0;32m     <a href='vscode-notebook-cell:/d%3A/Lovaion/University/2nd%20Year/Deep%20Learning/Project/daigtest/daigttest.ipynb#X20sZmlsZQ%3D%3D?line=39'>40</a>\u001b[0m                     epochs\u001b[39m=\u001b[39;49m\u001b[39m2\u001b[39;49m)\n",
      "File \u001b[1;32mc:\\Users\\danie\\AppData\\Local\\Programs\\Python\\Python39\\lib\\site-packages\\keras\\utils\\traceback_utils.py:70\u001b[0m, in \u001b[0;36mfilter_traceback.<locals>.error_handler\u001b[1;34m(*args, **kwargs)\u001b[0m\n\u001b[0;32m     67\u001b[0m     filtered_tb \u001b[39m=\u001b[39m _process_traceback_frames(e\u001b[39m.\u001b[39m__traceback__)\n\u001b[0;32m     68\u001b[0m     \u001b[39m# To get the full stack trace, call:\u001b[39;00m\n\u001b[0;32m     69\u001b[0m     \u001b[39m# `tf.debugging.disable_traceback_filtering()`\u001b[39;00m\n\u001b[1;32m---> 70\u001b[0m     \u001b[39mraise\u001b[39;00m e\u001b[39m.\u001b[39mwith_traceback(filtered_tb) \u001b[39mfrom\u001b[39;00m \u001b[39mNone\u001b[39;00m\n\u001b[0;32m     71\u001b[0m \u001b[39mfinally\u001b[39;00m:\n\u001b[0;32m     72\u001b[0m     \u001b[39mdel\u001b[39;00m filtered_tb\n",
      "File \u001b[1;32m~\\AppData\\Roaming\\Python\\Python39\\site-packages\\tensorflow\\python\\eager\\execute.py:54\u001b[0m, in \u001b[0;36mquick_execute\u001b[1;34m(op_name, num_outputs, inputs, attrs, ctx, name)\u001b[0m\n\u001b[0;32m     52\u001b[0m \u001b[39mtry\u001b[39;00m:\n\u001b[0;32m     53\u001b[0m   ctx\u001b[39m.\u001b[39mensure_initialized()\n\u001b[1;32m---> 54\u001b[0m   tensors \u001b[39m=\u001b[39m pywrap_tfe\u001b[39m.\u001b[39mTFE_Py_Execute(ctx\u001b[39m.\u001b[39m_handle, device_name, op_name,\n\u001b[0;32m     55\u001b[0m                                       inputs, attrs, num_outputs)\n\u001b[0;32m     56\u001b[0m \u001b[39mexcept\u001b[39;00m core\u001b[39m.\u001b[39m_NotOkStatusException \u001b[39mas\u001b[39;00m e:\n\u001b[0;32m     57\u001b[0m   \u001b[39mif\u001b[39;00m name \u001b[39mis\u001b[39;00m \u001b[39mnot\u001b[39;00m \u001b[39mNone\u001b[39;00m:\n",
      "\u001b[1;31mResourceExhaustedError\u001b[0m: Graph execution error:\n\nDetected at node 'gradients/transformer/layer_4/activation/Gelu/Pow_grad/Pow' defined at (most recent call last):\n    File \"c:\\Users\\danie\\AppData\\Local\\Programs\\Python\\Python39\\lib\\runpy.py\", line 197, in _run_module_as_main\n      return _run_code(code, main_globals, None,\n    File \"c:\\Users\\danie\\AppData\\Local\\Programs\\Python\\Python39\\lib\\runpy.py\", line 87, in _run_code\n      exec(code, run_globals)\n    File \"C:\\Users\\danie\\AppData\\Roaming\\Python\\Python39\\site-packages\\ipykernel_launcher.py\", line 17, in <module>\n      app.launch_new_instance()\n    File \"c:\\Users\\danie\\AppData\\Local\\Programs\\Python\\Python39\\lib\\site-packages\\traitlets\\config\\application.py\", line 1046, in launch_instance\n      app.start()\n    File \"C:\\Users\\danie\\AppData\\Roaming\\Python\\Python39\\site-packages\\ipykernel\\kernelapp.py\", line 736, in start\n      self.io_loop.start()\n    File \"c:\\Users\\danie\\AppData\\Local\\Programs\\Python\\Python39\\lib\\site-packages\\tornado\\platform\\asyncio.py\", line 195, in start\n      self.asyncio_loop.run_forever()\n    File \"c:\\Users\\danie\\AppData\\Local\\Programs\\Python\\Python39\\lib\\asyncio\\base_events.py\", line 596, in run_forever\n      self._run_once()\n    File \"c:\\Users\\danie\\AppData\\Local\\Programs\\Python\\Python39\\lib\\asyncio\\base_events.py\", line 1890, in _run_once\n      handle._run()\n    File \"c:\\Users\\danie\\AppData\\Local\\Programs\\Python\\Python39\\lib\\asyncio\\events.py\", line 80, in _run\n      self._context.run(self._callback, *self._args)\n    File \"C:\\Users\\danie\\AppData\\Roaming\\Python\\Python39\\site-packages\\ipykernel\\kernelbase.py\", line 516, in dispatch_queue\n      await self.process_one()\n    File \"C:\\Users\\danie\\AppData\\Roaming\\Python\\Python39\\site-packages\\ipykernel\\kernelbase.py\", line 505, in process_one\n      await dispatch(*args)\n    File \"C:\\Users\\danie\\AppData\\Roaming\\Python\\Python39\\site-packages\\ipykernel\\kernelbase.py\", line 412, in dispatch_shell\n      await result\n    File \"C:\\Users\\danie\\AppData\\Roaming\\Python\\Python39\\site-packages\\ipykernel\\kernelbase.py\", line 740, in execute_request\n      reply_content = await reply_content\n    File \"C:\\Users\\danie\\AppData\\Roaming\\Python\\Python39\\site-packages\\ipykernel\\ipkernel.py\", line 422, in do_execute\n      res = shell.run_cell(\n    File \"C:\\Users\\danie\\AppData\\Roaming\\Python\\Python39\\site-packages\\ipykernel\\zmqshell.py\", line 546, in run_cell\n      return super().run_cell(*args, **kwargs)\n    File \"c:\\Users\\danie\\AppData\\Local\\Programs\\Python\\Python39\\lib\\site-packages\\IPython\\core\\interactiveshell.py\", line 3024, in run_cell\n      result = self._run_cell(\n    File \"c:\\Users\\danie\\AppData\\Local\\Programs\\Python\\Python39\\lib\\site-packages\\IPython\\core\\interactiveshell.py\", line 3079, in _run_cell\n      result = runner(coro)\n    File \"c:\\Users\\danie\\AppData\\Local\\Programs\\Python\\Python39\\lib\\site-packages\\IPython\\core\\async_helpers.py\", line 129, in _pseudo_sync_runner\n      coro.send(None)\n    File \"c:\\Users\\danie\\AppData\\Local\\Programs\\Python\\Python39\\lib\\site-packages\\IPython\\core\\interactiveshell.py\", line 3284, in run_cell_async\n      has_raised = await self.run_ast_nodes(code_ast.body, cell_name,\n    File \"c:\\Users\\danie\\AppData\\Local\\Programs\\Python\\Python39\\lib\\site-packages\\IPython\\core\\interactiveshell.py\", line 3466, in run_ast_nodes\n      if await self.run_code(code, result, async_=asy):\n    File \"c:\\Users\\danie\\AppData\\Local\\Programs\\Python\\Python39\\lib\\site-packages\\IPython\\core\\interactiveshell.py\", line 3526, in run_code\n      exec(code_obj, self.user_global_ns, self.user_ns)\n    File \"C:\\Users\\danie\\AppData\\Local\\Temp\\ipykernel_28196\\60729901.py\", line 36, in <module>\n      history = model.fit(x=X_train,\n    File \"c:\\Users\\danie\\AppData\\Local\\Programs\\Python\\Python39\\lib\\site-packages\\keras\\utils\\traceback_utils.py\", line 65, in error_handler\n      return fn(*args, **kwargs)\n    File \"c:\\Users\\danie\\AppData\\Local\\Programs\\Python\\Python39\\lib\\site-packages\\keras\\engine\\training.py\", line 1564, in fit\n      tmp_logs = self.train_function(iterator)\n    File \"c:\\Users\\danie\\AppData\\Local\\Programs\\Python\\Python39\\lib\\site-packages\\keras\\engine\\training.py\", line 1160, in train_function\n      return step_function(self, iterator)\n    File \"c:\\Users\\danie\\AppData\\Local\\Programs\\Python\\Python39\\lib\\site-packages\\keras\\engine\\training.py\", line 1146, in step_function\n      outputs = model.distribute_strategy.run(run_step, args=(data,))\n    File \"c:\\Users\\danie\\AppData\\Local\\Programs\\Python\\Python39\\lib\\site-packages\\keras\\engine\\training.py\", line 1135, in run_step\n      outputs = model.train_step(data)\n    File \"c:\\Users\\danie\\AppData\\Local\\Programs\\Python\\Python39\\lib\\site-packages\\keras\\engine\\training.py\", line 997, in train_step\n      self.optimizer.minimize(loss, self.trainable_variables, tape=tape)\n    File \"c:\\Users\\danie\\AppData\\Local\\Programs\\Python\\Python39\\lib\\site-packages\\keras\\optimizers\\optimizer_v2\\optimizer_v2.py\", line 576, in minimize\n      grads_and_vars = self._compute_gradients(\n    File \"c:\\Users\\danie\\AppData\\Local\\Programs\\Python\\Python39\\lib\\site-packages\\keras\\optimizers\\optimizer_v2\\optimizer_v2.py\", line 634, in _compute_gradients\n      grads_and_vars = self._get_gradients(\n    File \"c:\\Users\\danie\\AppData\\Local\\Programs\\Python\\Python39\\lib\\site-packages\\keras\\optimizers\\optimizer_v2\\optimizer_v2.py\", line 510, in _get_gradients\n      grads = tape.gradient(loss, var_list, grad_loss)\nNode: 'gradients/transformer/layer_4/activation/Gelu/Pow_grad/Pow'\nfailed to allocate memory\n\t [[{{node gradients/transformer/layer_4/activation/Gelu/Pow_grad/Pow}}]]\nHint: If you want to see a list of allocated tensors when OOM happens, add report_tensor_allocations_upon_oom to RunOptions for current allocation info. This isn't available when running in Eager mode.\n [Op:__inference_train_function_75041]"
     ]
    }
   ],
   "source": [
    "# Creiamo il modello\n",
    "\n",
    "bert_preprocess_model = hub.KerasLayer(\"https://tfhub.dev/tensorflow/bert_en_uncased_preprocess/3\")\n",
    "\n",
    "bert_encoder = hub.KerasLayer(\"https://tfhub.dev/tensorflow/bert_en_uncased_L-12_H-768_A-12/4\", trainable=True)\n",
    "\n",
    "# Create the model\n",
    "text_input = tf.keras.layers.Input(shape=(), dtype=tf.string, name='text')\n",
    "preprocessed_text = bert_preprocess_model(text_input)\n",
    "\n",
    "# Preprocessed text praticamente fa le seguenti cose:\n",
    "# - Tokenizzazione\n",
    "# - Aggiunta dei token speciali\n",
    "# - Padding\n",
    "# - Codifica degli ID dei token\n",
    "# - Creazione di maschere di attenzione\n",
    "\n",
    "outputs = bert_encoder(preprocessed_text)\n",
    "\n",
    "# Layers della NN\n",
    "L = tf.keras.layers.Dropout(0.1, name='dropout')(outputs['pooled_output'])\n",
    "L = tf.keras.layers.Dense(1, activation='sigmoid', name='classifier')(L)\n",
    "\n",
    "# Usiamo input e output per creare il modello\n",
    "model = tf.keras.Model(inputs=[text_input], outputs=[L])\n",
    "\n",
    "# Print the model summary\n",
    "print(model.summary())\n",
    "\n",
    "# Compile the model\n",
    "model.compile(optimizer=tf.keras.optimizers.Adam(learning_rate=1e-5),\n",
    "              loss=tf.keras.losses.BinaryCrossentropy(),\n",
    "              metrics=[tf.keras.metrics.BinaryAccuracy()])\n",
    "\n",
    "# Train the model\n",
    "history = model.fit(x=X_train,\n",
    "                    y=y_train,\n",
    "                    validation_data=(X_test, y_test),\n",
    "                    batch_size=32,\n",
    "                    epochs=2)"
   ]
  },
  {
   "cell_type": "code",
   "execution_count": null,
   "metadata": {},
   "outputs": [
    {
     "ename": "NameError",
     "evalue": "name 'history' is not defined",
     "output_type": "error",
     "traceback": [
      "\u001b[1;31m---------------------------------------------------------------------------\u001b[0m",
      "\u001b[1;31mNameError\u001b[0m                                 Traceback (most recent call last)",
      "\u001b[1;32md:\\Lovaion\\University\\2nd Year\\Deep Learning\\Project\\daigtest\\daigttest.ipynb Cell 13\u001b[0m line \u001b[0;36m3\n\u001b[0;32m      <a href='vscode-notebook-cell:/d%3A/Lovaion/University/2nd%20Year/Deep%20Learning/Project/daigtest/daigttest.ipynb#X21sZmlsZQ%3D%3D?line=0'>1</a>\u001b[0m \u001b[39m# Plot the training and validation accuracy\u001b[39;00m\n\u001b[0;32m      <a href='vscode-notebook-cell:/d%3A/Lovaion/University/2nd%20Year/Deep%20Learning/Project/daigtest/daigttest.ipynb#X21sZmlsZQ%3D%3D?line=1'>2</a>\u001b[0m \u001b[39mimport\u001b[39;00m \u001b[39mmatplotlib\u001b[39;00m\u001b[39m.\u001b[39;00m\u001b[39mpyplot\u001b[39;00m \u001b[39mas\u001b[39;00m \u001b[39mplt\u001b[39;00m\n\u001b[1;32m----> <a href='vscode-notebook-cell:/d%3A/Lovaion/University/2nd%20Year/Deep%20Learning/Project/daigtest/daigttest.ipynb#X21sZmlsZQ%3D%3D?line=2'>3</a>\u001b[0m plt\u001b[39m.\u001b[39mplot(history\u001b[39m.\u001b[39mhistory[\u001b[39m'\u001b[39m\u001b[39mbinary_accuracy\u001b[39m\u001b[39m'\u001b[39m])\n\u001b[0;32m      <a href='vscode-notebook-cell:/d%3A/Lovaion/University/2nd%20Year/Deep%20Learning/Project/daigtest/daigttest.ipynb#X21sZmlsZQ%3D%3D?line=3'>4</a>\u001b[0m plt\u001b[39m.\u001b[39mplot(history\u001b[39m.\u001b[39mhistory[\u001b[39m'\u001b[39m\u001b[39mval_binary_accuracy\u001b[39m\u001b[39m'\u001b[39m])\n\u001b[0;32m      <a href='vscode-notebook-cell:/d%3A/Lovaion/University/2nd%20Year/Deep%20Learning/Project/daigtest/daigttest.ipynb#X21sZmlsZQ%3D%3D?line=4'>5</a>\u001b[0m plt\u001b[39m.\u001b[39mtitle(\u001b[39m'\u001b[39m\u001b[39mModel accuracy\u001b[39m\u001b[39m'\u001b[39m)\n",
      "\u001b[1;31mNameError\u001b[0m: name 'history' is not defined"
     ]
    }
   ],
   "source": [
    "# Plot the training and validation accuracy\n",
    "import matplotlib.pyplot as plt\n",
    "plt.plot(history.history['binary_accuracy'])\n",
    "plt.plot(history.history['val_binary_accuracy'])\n",
    "plt.title('Model accuracy')\n",
    "plt.ylabel('Accuracy')\n",
    "plt.xlabel('Epoch')\n",
    "plt.legend(['Train', 'Val'], loc='upper left')\n",
    "plt.show()\n",
    "\n"
   ]
  }
 ],
 "metadata": {
  "kernelspec": {
   "display_name": "Python 3",
   "language": "python",
   "name": "python3"
  },
  "language_info": {
   "codemirror_mode": {
    "name": "ipython",
    "version": 3
   },
   "file_extension": ".py",
   "mimetype": "text/x-python",
   "name": "python",
   "nbconvert_exporter": "python",
   "pygments_lexer": "ipython3",
   "version": "3.9.8"
  }
 },
 "nbformat": 4,
 "nbformat_minor": 2
}
